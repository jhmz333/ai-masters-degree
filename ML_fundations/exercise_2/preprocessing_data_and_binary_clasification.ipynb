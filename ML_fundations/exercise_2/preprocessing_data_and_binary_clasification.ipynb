{
 "cells": [
  {
   "cell_type": "markdown",
   "metadata": {
    "toc": true
   },
   "source": [
    "<h1>Table of Contents<span class=\"tocSkip\"></span></h1>\n",
    "<div class=\"toc\"><ul class=\"toc-item\"><li><span><a href=\"#Actividad-2.-Preprocesado-de-datos-y-clasificación-binaria.\" data-toc-modified-id=\"Actividad-2.-Preprocesado-de-datos-y-clasificación-binaria.-1\"><span class=\"toc-item-num\">1&nbsp;&nbsp;</span>Actividad 2. Preprocesado de datos y clasificación binaria.</a></span><ul class=\"toc-item\"><li><span><a href=\"#Finalidad-de-la-práctica\" data-toc-modified-id=\"Finalidad-de-la-práctica-1.1\"><span class=\"toc-item-num\">1.1&nbsp;&nbsp;</span>Finalidad de la práctica</a></span></li><li><span><a href=\"#Característiscticas-del-dataset-usado\" data-toc-modified-id=\"Característiscticas-del-dataset-usado-1.2\"><span class=\"toc-item-num\">1.2&nbsp;&nbsp;</span>Característiscticas del dataset usado</a></span></li><li><span><a href=\"#Importación-del-dataset\" data-toc-modified-id=\"Importación-del-dataset-1.3\"><span class=\"toc-item-num\">1.3&nbsp;&nbsp;</span>Importación del dataset</a></span><ul class=\"toc-item\"><li><span><a href=\"#Primera-pregunta-(1-punto)\" data-toc-modified-id=\"Primera-pregunta-(1-punto)-1.3.1\"><span class=\"toc-item-num\">1.3.1&nbsp;&nbsp;</span>Primera pregunta (1 punto)</a></span></li><li><span><a href=\"#Por-lo-visto-en-el-dataset-anterior,-para--un-caso-de-regresión-logística-en-aprendizaje-supervisado,-¿qué-columnas-son-las-variables-que-podríamos-usar-para-realizar-la-clasificación-y-cuál-es-la-columna-que-indica-la-etiqueta-a-la-que-se-debe-apuntar?-Por-favor,-indíquelas.\" data-toc-modified-id=\"Por-lo-visto-en-el-dataset-anterior,-para--un-caso-de-regresión-logística-en-aprendizaje-supervisado,-¿qué-columnas-son-las-variables-que-podríamos-usar-para-realizar-la-clasificación-y-cuál-es-la-columna-que-indica-la-etiqueta-a-la-que-se-debe-apuntar?-Por-favor,-indíquelas.-1.3.2\"><span class=\"toc-item-num\">1.3.2&nbsp;&nbsp;</span>Por lo visto en el dataset anterior, para  un caso de regresión logística en aprendizaje supervisado, ¿qué columnas son las variables que podríamos usar para realizar la clasificación y cuál es la columna que indica la etiqueta a la que se debe apuntar? Por favor, indíquelas.</a></span></li><li><span><a href=\"#Segunda-pregunta-(1-punto)\" data-toc-modified-id=\"Segunda-pregunta-(1-punto)-1.3.3\"><span class=\"toc-item-num\">1.3.3&nbsp;&nbsp;</span>Segunda pregunta (1 punto)</a></span></li><li><span><a href=\"#Haciendo-uso-de-la-función-de-pandas-isnull().sum(),-compruebe-si-hay-missing_values-en-el-dataset-facilitado.\" data-toc-modified-id=\"Haciendo-uso-de-la-función-de-pandas-isnull().sum(),-compruebe-si-hay-missing_values-en-el-dataset-facilitado.-1.3.4\"><span class=\"toc-item-num\">1.3.4&nbsp;&nbsp;</span>Haciendo uso de la función de pandas <code>isnull().sum()</code>, compruebe si hay <code>missing_values</code> en el dataset facilitado.</a></span></li><li><span><a href=\"#Visualización-de-datos\" data-toc-modified-id=\"Visualización-de-datos-1.3.5\"><span class=\"toc-item-num\">1.3.5&nbsp;&nbsp;</span>Visualización de datos</a></span></li><li><span><a href=\"#Tercera-pregunta-(2-puntos)\" data-toc-modified-id=\"Tercera-pregunta-(2-puntos)-1.3.6\"><span class=\"toc-item-num\">1.3.6&nbsp;&nbsp;</span>Tercera pregunta (2 puntos)</a></span></li><li><span><a href=\"#a)-Haciendo-uso-de-df.hist(),-ejecute-las-siguientes-líneas-de-código.-(0.5-puntos)\" data-toc-modified-id=\"a)-Haciendo-uso-de-df.hist(),-ejecute-las-siguientes-líneas-de-código.-(0.5-puntos)-1.3.7\"><span class=\"toc-item-num\">1.3.7&nbsp;&nbsp;</span>a) Haciendo uso de <code>df.hist()</code>, ejecute las siguientes líneas de código. (0.5 puntos)</a></span></li><li><span><a href=\"#b)-Vemos-que-hay-algunas-características-del-dataset-que-tienen-un-valor-mínimo-sin-ningún-sentido-lógico.-¿Qué-características-o-variables-considera-que-habría-que-modificar-para-eliminar-esos-registros-nulos-que-carecen-de-sentido?-(0.5-puntos)\" data-toc-modified-id=\"b)-Vemos-que-hay-algunas-características-del-dataset-que-tienen-un-valor-mínimo-sin-ningún-sentido-lógico.-¿Qué-características-o-variables-considera-que-habría-que-modificar-para-eliminar-esos-registros-nulos-que-carecen-de-sentido?-(0.5-puntos)-1.3.8\"><span class=\"toc-item-num\">1.3.8&nbsp;&nbsp;</span>b) Vemos que hay algunas características del dataset que tienen un valor mínimo sin ningún sentido lógico. ¿Qué características o variables considera que habría que modificar para eliminar esos registros nulos que carecen de sentido? (0.5 puntos)</a></span></li><li><span><a href=\"#c)-¿Cuál-es-la-relación-$\\Gamma-=-\\frac{diabeticos}{\\neg-diabeticos}$?-¿Está-nuestro-dataset-balanceado?-Si-es-así,-justificar.-De-lo-contrario,-indicar-qué-clase-está-subrepresentada.-(0.5-puntos)\" data-toc-modified-id=\"c)-¿Cuál-es-la-relación-$\\Gamma-=-\\frac{diabeticos}{\\neg-diabeticos}$?-¿Está-nuestro-dataset-balanceado?-Si-es-así,-justificar.-De-lo-contrario,-indicar-qué-clase-está-subrepresentada.-(0.5-puntos)-1.3.9\"><span class=\"toc-item-num\">1.3.9&nbsp;&nbsp;</span>c) ¿Cuál es la relación $\\Gamma = \\frac{diabeticos}{\\neg diabeticos}$? ¿Está nuestro dataset balanceado? Si es así, justificar. De lo contrario, indicar qué clase está subrepresentada. (0.5 puntos)</a></span></li><li><span><a href=\"#d)-¿Qué-alternativas-de-actuación-sobre-el-dataset-propone-para-compensar-la-posible-subrepresentación-de-una-clase?-(0.5-puntos)\" data-toc-modified-id=\"d)-¿Qué-alternativas-de-actuación-sobre-el-dataset-propone-para-compensar-la-posible-subrepresentación-de-una-clase?-(0.5-puntos)-1.3.10\"><span class=\"toc-item-num\">1.3.10&nbsp;&nbsp;</span>d) ¿Qué alternativas de actuación sobre el dataset propone para compensar la posible subrepresentación de una clase? (0.5 puntos)</a></span></li></ul></li><li><span><a href=\"#Limpieza-y-procesado-de-datos\" data-toc-modified-id=\"Limpieza-y-procesado-de-datos-1.4\"><span class=\"toc-item-num\">1.4&nbsp;&nbsp;</span>Limpieza y procesado de datos</a></span><ul class=\"toc-item\"><li><span><a href=\"#Cuarta-pregunta-(1-puntos)\" data-toc-modified-id=\"Cuarta-pregunta-(1-puntos)-1.4.1\"><span class=\"toc-item-num\">1.4.1&nbsp;&nbsp;</span>Cuarta pregunta (1 puntos)</a></span></li><li><span><a href=\"#¿Cuál-es-el-porcentaje-de-datos-nulos-de-insulina-en-el-dataset-(en-la-columna-insuline)?-¿Ve-conveniente-eliminar-todas-aquellas-filas-donde-nos-falte-alguna-variable?-Justifique-su-respuesta.\" data-toc-modified-id=\"¿Cuál-es-el-porcentaje-de-datos-nulos-de-insulina-en-el-dataset-(en-la-columna-insuline)?-¿Ve-conveniente-eliminar-todas-aquellas-filas-donde-nos-falte-alguna-variable?-Justifique-su-respuesta.-1.4.2\"><span class=\"toc-item-num\">1.4.2&nbsp;&nbsp;</span>¿Cuál es el porcentaje de datos nulos de insulina en el dataset (en la columna <code>insuline</code>)? ¿Ve conveniente eliminar todas aquellas filas donde nos falte alguna variable? Justifique su respuesta.</a></span></li><li><span><a href=\"#Quinta-pregunta-(1-puntos)\" data-toc-modified-id=\"Quinta-pregunta-(1-puntos)-1.4.3\"><span class=\"toc-item-num\">1.4.3&nbsp;&nbsp;</span>Quinta pregunta (1 puntos)</a></span></li><li><span><a href=\"#a)-Realice-la-sustitución-indicada-arriba-por-la-mediana-en-todas-aquellas-variables-que-considere-que-contienen-valores-sin-sentido-(en-relación-con-la-pregunta-3.b.)-(5-puntos)\" data-toc-modified-id=\"a)-Realice-la-sustitución-indicada-arriba-por-la-mediana-en-todas-aquellas-variables-que-considere-que-contienen-valores-sin-sentido-(en-relación-con-la-pregunta-3.b.)-(5-puntos)-1.4.4\"><span class=\"toc-item-num\">1.4.4&nbsp;&nbsp;</span>a) Realice la sustitución indicada arriba por la mediana en todas aquellas variables que considere que contienen valores sin sentido (en relación con la pregunta 3.b.) (5 puntos)</a></span></li><li><span><a href=\"#b)-Vuelva-a-ejecutar-el-comando-diabetes.describe().-¿Cuál-es-la-única-variable-que-debe-tener-como-valor-mínimo-$0$-tras-haber-hecho-la-sustitución-de-los-valores-nulos-por-su-mediana?-(0,5-puntos)\" data-toc-modified-id=\"b)-Vuelva-a-ejecutar-el-comando-diabetes.describe().-¿Cuál-es-la-única-variable-que-debe-tener-como-valor-mínimo-$0$-tras-haber-hecho-la-sustitución-de-los-valores-nulos-por-su-mediana?-(0,5-puntos)-1.4.5\"><span class=\"toc-item-num\">1.4.5&nbsp;&nbsp;</span>b) Vuelva a ejecutar el comando <code>diabetes.describe()</code>. ¿Cuál es la única variable que debe tener como valor mínimo $0$ tras haber hecho la sustitución de los valores nulos por su mediana? (0,5 puntos)</a></span></li><li><span><a href=\"#Normalizado-del-dataset\" data-toc-modified-id=\"Normalizado-del-dataset-1.4.6\"><span class=\"toc-item-num\">1.4.6&nbsp;&nbsp;</span>Normalizado del dataset</a></span></li><li><span><a href=\"#Sexta-pregunta-(2-puntos)\" data-toc-modified-id=\"Sexta-pregunta-(2-puntos)-1.4.7\"><span class=\"toc-item-num\">1.4.7&nbsp;&nbsp;</span>Sexta pregunta (2 puntos)</a></span></li><li><span><a href=\"#a)-Escale-las-caracteríticas-del-dataset-que-considere-necesarias-entre-0-y-1-para-su-posterior-uso-en-una-regresión-logítica-binaria.-(1-puntos)\" data-toc-modified-id=\"a)-Escale-las-caracteríticas-del-dataset-que-considere-necesarias-entre-0-y-1-para-su-posterior-uso-en-una-regresión-logítica-binaria.-(1-puntos)-1.4.8\"><span class=\"toc-item-num\">1.4.8&nbsp;&nbsp;</span>a) Escale las caracteríticas del dataset que considere necesarias entre <code>0</code> y <code>1</code> para su posterior uso en una regresión logítica binaria. (1 puntos)</a></span><ul class=\"toc-item\"><li><span><a href=\"#Pista:-para-hacerlo-rápidamente,-puede-definir-una-lista-cols_to_norm-con-las-columnas-a-normalizar-e-incluir-la-función-a-usar-en-el-escalado-e-iterar-en-bucle:\" data-toc-modified-id=\"Pista:-para-hacerlo-rápidamente,-puede-definir-una-lista-cols_to_norm-con-las-columnas-a-normalizar-e-incluir-la-función-a-usar-en-el-escalado-e-iterar-en-bucle:-1.4.8.1\"><span class=\"toc-item-num\">1.4.8.1&nbsp;&nbsp;</span>Pista: para hacerlo rápidamente, puede definir una lista <code>cols_to_norm</code> con las columnas a normalizar e incluir la función a usar en el escalado e iterar en bucle:</a></span></li></ul></li><li><span><a href=\"#b)-¿Qué-destacaría-en-las-dos-tablas-anteriores?¿Cómo-han-cambiado-los-intervalos-en-los-que-las-características-están-distribuidas?-(0,5-puntos)\" data-toc-modified-id=\"b)-¿Qué-destacaría-en-las-dos-tablas-anteriores?¿Cómo-han-cambiado-los-intervalos-en-los-que-las-características-están-distribuidas?-(0,5-puntos)-1.4.9\"><span class=\"toc-item-num\">1.4.9&nbsp;&nbsp;</span>b) ¿Qué destacaría en las dos tablas anteriores?¿Cómo han cambiado los intervalos en los que las características están distribuidas? (0,5 puntos)</a></span></li><li><span><a href=\"#c)-¿Qué-otro-tipo-de-escalado-aplicaría-a-las-características-de-nuestro-dataset?-Impleméntela-debajo-y-justifique-su-elección.-(0,5-puntos)\" data-toc-modified-id=\"c)-¿Qué-otro-tipo-de-escalado-aplicaría-a-las-características-de-nuestro-dataset?-Impleméntela-debajo-y-justifique-su-elección.-(0,5-puntos)-1.4.10\"><span class=\"toc-item-num\">1.4.10&nbsp;&nbsp;</span>c) ¿Qué otro tipo de escalado aplicaría a las características de nuestro dataset? Impleméntela debajo y justifique su elección. (0,5 puntos)</a></span></li><li><span><a href=\"#Matriz-de-correlación\" data-toc-modified-id=\"Matriz-de-correlación-1.4.11\"><span class=\"toc-item-num\">1.4.11&nbsp;&nbsp;</span>Matriz de correlación</a></span></li><li><span><a href=\"#Séptima-pregunta-(1-punto)\" data-toc-modified-id=\"Séptima-pregunta-(1-punto)-1.4.12\"><span class=\"toc-item-num\">1.4.12&nbsp;&nbsp;</span>Séptima pregunta (1 punto)</a></span></li><li><span><a href=\"#Indique,-de-mayor-a-menor-correlación,-las-variables-que-guardan-una-mayor-correlación-con-la-clase.-¿Tiene-sentido-que-las-tres-primeras-variables-con-mayor-correlación-se-identifiquen-con-una-mayor-probabilidad-de-sufrir-diabetes-de-tipo-2?-Justifique-su-respuesta.\" data-toc-modified-id=\"Indique,-de-mayor-a-menor-correlación,-las-variables-que-guardan-una-mayor-correlación-con-la-clase.-¿Tiene-sentido-que-las-tres-primeras-variables-con-mayor-correlación-se-identifiquen-con-una-mayor-probabilidad-de-sufrir-diabetes-de-tipo-2?-Justifique-su-respuesta.-1.4.13\"><span class=\"toc-item-num\">1.4.13&nbsp;&nbsp;</span>Indique, de mayor a menor correlación, las variables que guardan una mayor correlación con la clase. ¿Tiene sentido que las tres primeras variables con mayor correlación se identifiquen con una mayor probabilidad de sufrir diabetes de tipo 2? Justifique su respuesta.</a></span></li></ul></li><li><span><a href=\"#Entrenando-un-modelo-de-Regresión-Logística-para-el-dataset\" data-toc-modified-id=\"Entrenando-un-modelo-de-Regresión-Logística-para-el-dataset-1.5\"><span class=\"toc-item-num\">1.5&nbsp;&nbsp;</span>Entrenando un modelo de Regresión Logística para el dataset</a></span><ul class=\"toc-item\"><li><span><a href=\"#Partición-del-dataset-en-train-test-y-test-set\" data-toc-modified-id=\"Partición-del-dataset-en-train-test-y-test-set-1.5.1\"><span class=\"toc-item-num\">1.5.1&nbsp;&nbsp;</span>Partición del dataset en train test y test set</a></span></li><li><span><a href=\"#Octava-pregunta-(1-punto)\" data-toc-modified-id=\"Octava-pregunta-(1-punto)-1.5.2\"><span class=\"toc-item-num\">1.5.2&nbsp;&nbsp;</span>Octava pregunta (1 punto)</a></span></li><li><span><a href=\"#Este-ajuste-se-ha-realizado-con-los-datos-escalados-entre-$0$-y-$1$.\" data-toc-modified-id=\"Este-ajuste-se-ha-realizado-con-los-datos-escalados-entre-$0$-y-$1$.-1.5.3\"><span class=\"toc-item-num\">1.5.3&nbsp;&nbsp;</span>Este ajuste se ha realizado con los datos escalados entre $0$ y $1$.</a></span></li><li><span><a href=\"#a)-Repita-este-ajuste-con-los-datos-no-escalados-(es-decir,-con-el-dataset-original)-(0,4-puntos)\" data-toc-modified-id=\"a)-Repita-este-ajuste-con-los-datos-no-escalados-(es-decir,-con-el-dataset-original)-(0,4-puntos)-1.5.4\"><span class=\"toc-item-num\">1.5.4&nbsp;&nbsp;</span>a) Repita este ajuste con los datos no escalados (es decir, con el dataset original) (0,4 puntos)</a></span></li><li><span><a href=\"#b)-Repita-este-ajuste-con-los-datos-escalados-con-$\\mu-=-0$-y-$\\sigma-=-1$,-tal-y-como-hizo-en-la-pregunta-2.c.-(0,3-puntos)\" data-toc-modified-id=\"b)-Repita-este-ajuste-con-los-datos-escalados-con-$\\mu-=-0$-y-$\\sigma-=-1$,-tal-y-como-hizo-en-la-pregunta-2.c.-(0,3-puntos)-1.5.5\"><span class=\"toc-item-num\">1.5.5&nbsp;&nbsp;</span>b) Repita este ajuste con los datos escalados con $\\mu = 0$ y $\\sigma = 1$, tal y como hizo en la pregunta 2.c. (0,3 puntos)</a></span></li><li><span><a href=\"#c)-¿Observa-una-mejora-sustancial-en-alguno-de-los-casos-o-un-empeoramiento?-Justifique-su-respuesta.-¿Por-qué-no-prueba-a-implementar-otro-algoritmo-(por-ejemplo,-RandomForestClassifier())-para-ver-si-mejora-su-precisión?-¿Cómo-interpreta-los-resultados-obtenidos?-(0,3-puntos)\" data-toc-modified-id=\"c)-¿Observa-una-mejora-sustancial-en-alguno-de-los-casos-o-un-empeoramiento?-Justifique-su-respuesta.-¿Por-qué-no-prueba-a-implementar-otro-algoritmo-(por-ejemplo,-RandomForestClassifier())-para-ver-si-mejora-su-precisión?-¿Cómo-interpreta-los-resultados-obtenidos?-(0,3-puntos)-1.5.6\"><span class=\"toc-item-num\">1.5.6&nbsp;&nbsp;</span>c) ¿Observa una mejora sustancial en alguno de los casos o un empeoramiento? Justifique su respuesta. ¿Por qué no prueba a implementar otro algoritmo (por ejemplo, <code>RandomForestClassifier()</code>) para ver si mejora su precisión? ¿Cómo interpreta los resultados obtenidos? (0,3 puntos)</a></span></li></ul></li></ul></li></ul></div>"
   ]
  },
  {
   "cell_type": "markdown",
   "metadata": {},
   "source": [
    "# Actividad 2. Preprocesado de datos y clasificación binaria."
   ]
  },
  {
   "cell_type": "markdown",
   "metadata": {},
   "source": [
    "## Finalidad de la práctica"
   ]
  },
  {
   "cell_type": "markdown",
   "metadata": {},
   "source": [
    "Dado el data set *Pima Indians Diabetes Database*, donde se tiene un registro de personas afectadas por Diabetes tipo 2 en función de otras muchas variables, se busca:\n",
    "* **Familiarizarnos con las técnicas de importación** de datos a través de la librería [`pandas`](https://pandas.pydata.org/).\n",
    "* **Analizar** los datos haciendo uso de las librerías [`pandas`](https://pandas.pydata.org/), [`matplotlib`](https://matplotlib.org/) y [`seaborn`](https://seaborn.pydata.org/).\n",
    "* **Sacar la mayor cantidad de conclusiones posibles** de cara al posible entrenamiento de un modelo de Machine Learning\n",
    "* **Realizar transformaciones y normalizaciones requeridas**\n",
    "* **Mostrar un rápido ejemplo de regresión logística** con este dataset."
   ]
  },
  {
   "cell_type": "markdown",
   "metadata": {},
   "source": [
    "____\n",
    "## Característiscticas del dataset usado\n",
    "\n",
    "Se hace uso del fichero `pima-indians-diabetes.csv`, el cual presenta las siguinetes características:\n",
    "\n",
    "1. **Title**: Pima Indians Diabetes Database\n",
    "\n",
    "2. **Sources**:\n",
    "   (a) Original owners: National Institute of Diabetes and Digestive and\n",
    "                        Kidney Diseases\n",
    "   (b) Donor of database: Vincent Sigillito (vgs@aplcen.apl.jhu.edu)\n",
    "                          Research Center, RMI Group Leader\n",
    "                          Applied Physics Laboratory\n",
    "                          The Johns Hopkins University\n",
    "                          Johns Hopkins Road\n",
    "                          Laurel, MD 20707\n",
    "                          (301) 953-6231\n",
    "   (c) Date received: 9 May 1990\n",
    "   \n",
    "3. **References**:\n",
    "       Smith,~J.~W., Everhart,~J.~E., Dickson,~W.~C., Knowler,~W.~C., \\&\n",
    "       Johannes,~R.~S. (1988). Using the ADAP learning algorithm to forecast\n",
    "       the onset of diabetes mellitus.  In {\\it Proceedings of the Symposium\n",
    "       on Computer Applications and Medical Care} (pp. 261--265).  IEEE\n",
    "       Computer Society Press.\n",
    "\n",
    "       The diagnostic, binary-valued variable investigated is whether the\n",
    "       patient shows signs of diabetes according to World Health Organization\n",
    "       criteria (i.e., if the 2 hour post-load plasma glucose was at least \n",
    "       200 mg/dl at any survey  examination or if found during routine medical\n",
    "       care).   The population lives near Phoenix, Arizona, USA.\n",
    "\n",
    "       Results: Their ADAP algorithm makes a real-valued prediction between\n",
    "       0 and 1.  This was transformed into a binary decision using a cutoff of \n",
    "       0.448.  Using 576 training instances, the sensitivity and specificity\n",
    "       of their algorithm was 76% on the remaining 192 instances.\n",
    "\n",
    "4. **Relevant information**:\n",
    "\n",
    "      Several constraints were placed on the selection of these instances from\n",
    "      a larger database.  In particular, all patients here are females at\n",
    "      least 21 years old of Pima Indian heritage.  ADAP is an adaptive learning\n",
    "      routine that generates and executes digital analogs of perceptron-like\n",
    "      devices.  It is a unique algorithm; see the paper for details.\n",
    "      \n",
    "5. **Number of samples**: 768\n",
    "\n",
    "6. **Number of features**: 8 + clase \n",
    "\n",
    "    7. Para cada característica: (**todas las variables son numéricas**)\n",
    "       1. Number of times pregnant\n",
    "       2. Plasma glucose concentration a 2 hours in an oral glucose tolerance test\n",
    "       3. Diastolic blood pressure (mm Hg)\n",
    "       4. Triceps skin fold thickness (mm)\n",
    "       5. 2-Hour serum insulin (mu U/ml)\n",
    "       6. Body mass index (weight in kg/(height in m)^2)\n",
    "       7. Diabetes pedigree function\n",
    "       8. Age (years)\n",
    "       9. Class variable (0 or 1)\n",
    "       \n",
    "7. **Missing Attribute Values**: Yes"
   ]
  },
  {
   "cell_type": "markdown",
   "metadata": {},
   "source": [
    "Los **akimel o'odham** o **pima** son un grupo indígena que vive en el estado de Arizona (Estados Unidos) y en el estado mexicano en Sonora y Chihuahua. Su nombre significa \"pueblo del río\", que los distingue de sus parientes los \"pápagos\" (la gente del desierto). Se puede encontrar más información en [este enlace](https://www.ncbi.nlm.nih.gov/pmc/articles/PMC4418458/). "
   ]
  },
  {
   "cell_type": "code",
   "execution_count": 414,
   "metadata": {},
   "outputs": [],
   "source": [
    "from IPython.core.display import HTML"
   ]
  },
  {
   "cell_type": "markdown",
   "metadata": {},
   "source": [
    "<img src=\"images/pima.jpg\" width=\"400\" height=\"400\" align=\"left\"/>\n",
    "<img src=\"images/pima-location.jpg\" width=\"400\" height=\"400\" align=\"right\"/>"
   ]
  },
  {
   "cell_type": "markdown",
   "metadata": {},
   "source": [
    "Fotografías de miembros del pueblo Pima y Territorio ca. 1700"
   ]
  },
  {
   "cell_type": "markdown",
   "metadata": {},
   "source": [
    "-----------------------------"
   ]
  },
  {
   "cell_type": "markdown",
   "metadata": {},
   "source": [
    "## Importación del dataset"
   ]
  },
  {
   "cell_type": "markdown",
   "metadata": {},
   "source": [
    "Comencemos importando las librerías que vamos a necesitar en esta parte de la práctica:"
   ]
  },
  {
   "cell_type": "code",
   "execution_count": 415,
   "metadata": {},
   "outputs": [],
   "source": [
    "import pandas as pd"
   ]
  },
  {
   "cell_type": "code",
   "execution_count": 416,
   "metadata": {},
   "outputs": [],
   "source": [
    "import numpy as np"
   ]
  },
  {
   "cell_type": "markdown",
   "metadata": {},
   "source": [
    "Cargamos los datos desde el fichero `pima-indians-diabetes.csv`."
   ]
  },
  {
   "cell_type": "code",
   "execution_count": 417,
   "metadata": {},
   "outputs": [],
   "source": [
    "diabetes = pd.read_csv('data/pima-indians-diabetes.csv', \n",
    "                       names=['Num_pregnant', 'Gluc_concent',\n",
    "                             'Blood_press', 'Triceps', 'Insulin', 'BMI',\n",
    "                             'Pedigree', 'Age', 'Diagnosis'])"
   ]
  },
  {
   "cell_type": "code",
   "execution_count": 418,
   "metadata": {},
   "outputs": [
    {
     "data": {
      "text/plain": [
       "Index(['Num_pregnant', 'Gluc_concent', 'Blood_press', 'Triceps', 'Insulin',\n",
       "       'BMI', 'Pedigree', 'Age', 'Diagnosis'],\n",
       "      dtype='object')"
      ]
     },
     "execution_count": 418,
     "metadata": {},
     "output_type": "execute_result"
    }
   ],
   "source": [
    "diabetes.columns"
   ]
  },
  {
   "cell_type": "markdown",
   "metadata": {},
   "source": [
    "Con la función `head` somos capaces de echarle un vistazo rápido a los valores del dataset. "
   ]
  },
  {
   "cell_type": "code",
   "execution_count": 419,
   "metadata": {
    "scrolled": true
   },
   "outputs": [
    {
     "data": {
      "text/html": [
       "<div>\n",
       "<style scoped>\n",
       "    .dataframe tbody tr th:only-of-type {\n",
       "        vertical-align: middle;\n",
       "    }\n",
       "\n",
       "    .dataframe tbody tr th {\n",
       "        vertical-align: top;\n",
       "    }\n",
       "\n",
       "    .dataframe thead th {\n",
       "        text-align: right;\n",
       "    }\n",
       "</style>\n",
       "<table border=\"1\" class=\"dataframe\">\n",
       "  <thead>\n",
       "    <tr style=\"text-align: right;\">\n",
       "      <th></th>\n",
       "      <th>Num_pregnant</th>\n",
       "      <th>Gluc_concent</th>\n",
       "      <th>Blood_press</th>\n",
       "      <th>Triceps</th>\n",
       "      <th>Insulin</th>\n",
       "      <th>BMI</th>\n",
       "      <th>Pedigree</th>\n",
       "      <th>Age</th>\n",
       "      <th>Diagnosis</th>\n",
       "    </tr>\n",
       "  </thead>\n",
       "  <tbody>\n",
       "    <tr>\n",
       "      <th>0</th>\n",
       "      <td>6</td>\n",
       "      <td>148</td>\n",
       "      <td>72</td>\n",
       "      <td>35</td>\n",
       "      <td>0</td>\n",
       "      <td>33.6</td>\n",
       "      <td>0.627</td>\n",
       "      <td>50</td>\n",
       "      <td>1</td>\n",
       "    </tr>\n",
       "    <tr>\n",
       "      <th>1</th>\n",
       "      <td>1</td>\n",
       "      <td>85</td>\n",
       "      <td>66</td>\n",
       "      <td>29</td>\n",
       "      <td>0</td>\n",
       "      <td>26.6</td>\n",
       "      <td>0.351</td>\n",
       "      <td>31</td>\n",
       "      <td>0</td>\n",
       "    </tr>\n",
       "    <tr>\n",
       "      <th>2</th>\n",
       "      <td>8</td>\n",
       "      <td>183</td>\n",
       "      <td>64</td>\n",
       "      <td>0</td>\n",
       "      <td>0</td>\n",
       "      <td>23.3</td>\n",
       "      <td>0.672</td>\n",
       "      <td>32</td>\n",
       "      <td>1</td>\n",
       "    </tr>\n",
       "    <tr>\n",
       "      <th>3</th>\n",
       "      <td>1</td>\n",
       "      <td>89</td>\n",
       "      <td>66</td>\n",
       "      <td>23</td>\n",
       "      <td>94</td>\n",
       "      <td>28.1</td>\n",
       "      <td>0.167</td>\n",
       "      <td>21</td>\n",
       "      <td>0</td>\n",
       "    </tr>\n",
       "    <tr>\n",
       "      <th>4</th>\n",
       "      <td>0</td>\n",
       "      <td>137</td>\n",
       "      <td>40</td>\n",
       "      <td>35</td>\n",
       "      <td>168</td>\n",
       "      <td>43.1</td>\n",
       "      <td>2.288</td>\n",
       "      <td>33</td>\n",
       "      <td>1</td>\n",
       "    </tr>\n",
       "    <tr>\n",
       "      <th>5</th>\n",
       "      <td>5</td>\n",
       "      <td>116</td>\n",
       "      <td>74</td>\n",
       "      <td>0</td>\n",
       "      <td>0</td>\n",
       "      <td>25.6</td>\n",
       "      <td>0.201</td>\n",
       "      <td>30</td>\n",
       "      <td>0</td>\n",
       "    </tr>\n",
       "    <tr>\n",
       "      <th>6</th>\n",
       "      <td>3</td>\n",
       "      <td>78</td>\n",
       "      <td>50</td>\n",
       "      <td>32</td>\n",
       "      <td>88</td>\n",
       "      <td>31.0</td>\n",
       "      <td>0.248</td>\n",
       "      <td>26</td>\n",
       "      <td>1</td>\n",
       "    </tr>\n",
       "    <tr>\n",
       "      <th>7</th>\n",
       "      <td>10</td>\n",
       "      <td>115</td>\n",
       "      <td>0</td>\n",
       "      <td>0</td>\n",
       "      <td>0</td>\n",
       "      <td>35.3</td>\n",
       "      <td>0.134</td>\n",
       "      <td>29</td>\n",
       "      <td>0</td>\n",
       "    </tr>\n",
       "    <tr>\n",
       "      <th>8</th>\n",
       "      <td>2</td>\n",
       "      <td>197</td>\n",
       "      <td>70</td>\n",
       "      <td>45</td>\n",
       "      <td>543</td>\n",
       "      <td>30.5</td>\n",
       "      <td>0.158</td>\n",
       "      <td>53</td>\n",
       "      <td>1</td>\n",
       "    </tr>\n",
       "    <tr>\n",
       "      <th>9</th>\n",
       "      <td>8</td>\n",
       "      <td>125</td>\n",
       "      <td>96</td>\n",
       "      <td>0</td>\n",
       "      <td>0</td>\n",
       "      <td>0.0</td>\n",
       "      <td>0.232</td>\n",
       "      <td>54</td>\n",
       "      <td>1</td>\n",
       "    </tr>\n",
       "  </tbody>\n",
       "</table>\n",
       "</div>"
      ],
      "text/plain": [
       "   Num_pregnant  Gluc_concent  Blood_press  Triceps  Insulin   BMI  Pedigree  \\\n",
       "0             6           148           72       35        0  33.6     0.627   \n",
       "1             1            85           66       29        0  26.6     0.351   \n",
       "2             8           183           64        0        0  23.3     0.672   \n",
       "3             1            89           66       23       94  28.1     0.167   \n",
       "4             0           137           40       35      168  43.1     2.288   \n",
       "5             5           116           74        0        0  25.6     0.201   \n",
       "6             3            78           50       32       88  31.0     0.248   \n",
       "7            10           115            0        0        0  35.3     0.134   \n",
       "8             2           197           70       45      543  30.5     0.158   \n",
       "9             8           125           96        0        0   0.0     0.232   \n",
       "\n",
       "   Age  Diagnosis  \n",
       "0   50          1  \n",
       "1   31          0  \n",
       "2   32          1  \n",
       "3   21          0  \n",
       "4   33          1  \n",
       "5   30          0  \n",
       "6   26          1  \n",
       "7   29          0  \n",
       "8   53          1  \n",
       "9   54          1  "
      ]
     },
     "execution_count": 419,
     "metadata": {},
     "output_type": "execute_result"
    }
   ],
   "source": [
    "diabetes.head(n=10)"
   ]
  },
  {
   "cell_type": "markdown",
   "metadata": {},
   "source": [
    "### Primera pregunta (1 punto) \n",
    "\n",
    "### Por lo visto en el dataset anterior, para  un caso de regresión logística en aprendizaje supervisado, ¿qué columnas son las variables que podríamos usar para realizar la clasificación y cuál es la columna que indica la etiqueta a la que se debe apuntar? Por favor, indíquelas."
   ]
  },
  {
   "cell_type": "markdown",
   "metadata": {},
   "source": [
    "**Respuesta:** Las columnas que podríamos usar para realizar la clasificación son las siguientes. Todos los valores de cada columna son de tipo numérico o flotante."
   ]
  },
  {
   "cell_type": "code",
   "execution_count": 420,
   "metadata": {},
   "outputs": [
    {
     "data": {
      "text/plain": [
       "Index(['Num_pregnant', 'Gluc_concent', 'Blood_press', 'Triceps', 'Insulin',\n",
       "       'BMI', 'Pedigree', 'Age'],\n",
       "      dtype='object')"
      ]
     },
     "execution_count": 420,
     "metadata": {},
     "output_type": "execute_result"
    }
   ],
   "source": [
    "diabetes.columns[:8]"
   ]
  },
  {
   "cell_type": "markdown",
   "metadata": {},
   "source": [
    "Y la columna que contiene las etiquetas de las clases de la clasificación es `Diagnosis`, ya que indica si una persona fue diagnosticada con diabetes de tipo 2. Esta columna almacena el valor como número y solo contiene **0** (sin diabetes) y **1** (con diabetes)."
   ]
  },
  {
   "cell_type": "code",
   "execution_count": 421,
   "metadata": {},
   "outputs": [
    {
     "data": {
      "text/plain": [
       "Index(['Diagnosis'], dtype='object')"
      ]
     },
     "execution_count": 421,
     "metadata": {},
     "output_type": "execute_result"
    }
   ],
   "source": [
    "diabetes.columns[8:]"
   ]
  },
  {
   "cell_type": "markdown",
   "metadata": {},
   "source": [
    "Los tipos de cada columna se pueden explorar de la siguiente manera:"
   ]
  },
  {
   "cell_type": "code",
   "execution_count": 422,
   "metadata": {
    "scrolled": true
   },
   "outputs": [
    {
     "data": {
      "text/plain": [
       "Num_pregnant      int64\n",
       "Gluc_concent      int64\n",
       "Blood_press       int64\n",
       "Triceps           int64\n",
       "Insulin           int64\n",
       "BMI             float64\n",
       "Pedigree        float64\n",
       "Age               int64\n",
       "Diagnosis         int64\n",
       "dtype: object"
      ]
     },
     "execution_count": 422,
     "metadata": {},
     "output_type": "execute_result"
    }
   ],
   "source": [
    "diabetes.dtypes"
   ]
  },
  {
   "cell_type": "markdown",
   "metadata": {},
   "source": [
    "### Segunda pregunta (1 punto)\n",
    "\n",
    "### Haciendo uso de la función de pandas `isnull().sum()`, compruebe si hay `missing_values` en el dataset facilitado."
   ]
  },
  {
   "cell_type": "code",
   "execution_count": 423,
   "metadata": {},
   "outputs": [
    {
     "data": {
      "text/plain": [
       "Num_pregnant    0\n",
       "Gluc_concent    0\n",
       "Blood_press     0\n",
       "Triceps         0\n",
       "Insulin         0\n",
       "BMI             0\n",
       "Pedigree        0\n",
       "Age             0\n",
       "Diagnosis       0\n",
       "dtype: int64"
      ]
     },
     "execution_count": 423,
     "metadata": {},
     "output_type": "execute_result"
    }
   ],
   "source": [
    "diabetes.isnull().sum(axis=0)"
   ]
  },
  {
   "cell_type": "code",
   "execution_count": 424,
   "metadata": {},
   "outputs": [
    {
     "data": {
      "text/plain": [
       "Num_pregnant    111\n",
       "Gluc_concent      5\n",
       "Blood_press      35\n",
       "Triceps         227\n",
       "Insulin         374\n",
       "BMI              11\n",
       "Pedigree          0\n",
       "Age               0\n",
       "Diagnosis       500\n",
       "dtype: int64"
      ]
     },
     "execution_count": 424,
     "metadata": {},
     "output_type": "execute_result"
    }
   ],
   "source": [
    "diabetes[diabetes == 0.0].count()"
   ]
  },
  {
   "cell_type": "markdown",
   "metadata": {},
   "source": [
    "**Respuesta:** Según los resultados de la función `isnull().sum()`, el dataset de entrada no contiene datos nulos en ninguna de sus características, pero se confirma que contiene valores **ceros** en características donde no es posible este valor en la realidad, por ejemplo, *Gluc_concent, Blood_press, Triceps, Insulin y BMI*."
   ]
  },
  {
   "cell_type": "markdown",
   "metadata": {},
   "source": [
    "### Visualización de datos"
   ]
  },
  {
   "cell_type": "markdown",
   "metadata": {},
   "source": [
    "### Tercera pregunta (2 puntos)\n",
    " \n",
    "### a) Haciendo uso de `df.hist()`, ejecute las siguientes líneas de código. (0.5 puntos)"
   ]
  },
  {
   "cell_type": "markdown",
   "metadata": {},
   "source": [
    "Puede que resulte necesario correr dos veces la siguiente línea de código dado lo pesado del gráfico."
   ]
  },
  {
   "cell_type": "code",
   "execution_count": 425,
   "metadata": {},
   "outputs": [
    {
     "data": {
      "image/png": "[encoded data removed]",
      "text/plain": [
       "<Figure size 1440x1080 with 9 Axes>"
      ]
     },
     "metadata": {
      "needs_background": "light"
     },
     "output_type": "display_data"
    }
   ],
   "source": [
    "import matplotlib.pyplot as plt\n",
    "diabetes.hist(bins = 50, figsize=(20, 15))\n",
    "plt.show()"
   ]
  },
  {
   "cell_type": "markdown",
   "metadata": {},
   "source": [
    "Se pueden obtener más detalles de nuestro dataset almacenados en `pandas` a través del comando `df.describe()`."
   ]
  },
  {
   "cell_type": "code",
   "execution_count": 426,
   "metadata": {
    "scrolled": true
   },
   "outputs": [
    {
     "data": {
      "text/html": [
       "<div>\n",
       "<style scoped>\n",
       "    .dataframe tbody tr th:only-of-type {\n",
       "        vertical-align: middle;\n",
       "    }\n",
       "\n",
       "    .dataframe tbody tr th {\n",
       "        vertical-align: top;\n",
       "    }\n",
       "\n",
       "    .dataframe thead th {\n",
       "        text-align: right;\n",
       "    }\n",
       "</style>\n",
       "<table border=\"1\" class=\"dataframe\">\n",
       "  <thead>\n",
       "    <tr style=\"text-align: right;\">\n",
       "      <th></th>\n",
       "      <th>Num_pregnant</th>\n",
       "      <th>Gluc_concent</th>\n",
       "      <th>Blood_press</th>\n",
       "      <th>Triceps</th>\n",
       "      <th>Insulin</th>\n",
       "      <th>BMI</th>\n",
       "      <th>Pedigree</th>\n",
       "      <th>Age</th>\n",
       "      <th>Diagnosis</th>\n",
       "    </tr>\n",
       "  </thead>\n",
       "  <tbody>\n",
       "    <tr>\n",
       "      <th>count</th>\n",
       "      <td>768.000000</td>\n",
       "      <td>768.000000</td>\n",
       "      <td>768.000000</td>\n",
       "      <td>768.000000</td>\n",
       "      <td>768.000000</td>\n",
       "      <td>768.000000</td>\n",
       "      <td>768.000000</td>\n",
       "      <td>768.000000</td>\n",
       "      <td>768.000000</td>\n",
       "    </tr>\n",
       "    <tr>\n",
       "      <th>mean</th>\n",
       "      <td>3.845052</td>\n",
       "      <td>120.894531</td>\n",
       "      <td>69.105469</td>\n",
       "      <td>20.536458</td>\n",
       "      <td>79.799479</td>\n",
       "      <td>31.992578</td>\n",
       "      <td>0.471876</td>\n",
       "      <td>33.240885</td>\n",
       "      <td>0.348958</td>\n",
       "    </tr>\n",
       "    <tr>\n",
       "      <th>std</th>\n",
       "      <td>3.369578</td>\n",
       "      <td>31.972618</td>\n",
       "      <td>19.355807</td>\n",
       "      <td>15.952218</td>\n",
       "      <td>115.244002</td>\n",
       "      <td>7.884160</td>\n",
       "      <td>0.331329</td>\n",
       "      <td>11.760232</td>\n",
       "      <td>0.476951</td>\n",
       "    </tr>\n",
       "    <tr>\n",
       "      <th>min</th>\n",
       "      <td>0.000000</td>\n",
       "      <td>0.000000</td>\n",
       "      <td>0.000000</td>\n",
       "      <td>0.000000</td>\n",
       "      <td>0.000000</td>\n",
       "      <td>0.000000</td>\n",
       "      <td>0.078000</td>\n",
       "      <td>21.000000</td>\n",
       "      <td>0.000000</td>\n",
       "    </tr>\n",
       "    <tr>\n",
       "      <th>25%</th>\n",
       "      <td>1.000000</td>\n",
       "      <td>99.000000</td>\n",
       "      <td>62.000000</td>\n",
       "      <td>0.000000</td>\n",
       "      <td>0.000000</td>\n",
       "      <td>27.300000</td>\n",
       "      <td>0.243750</td>\n",
       "      <td>24.000000</td>\n",
       "      <td>0.000000</td>\n",
       "    </tr>\n",
       "    <tr>\n",
       "      <th>50%</th>\n",
       "      <td>3.000000</td>\n",
       "      <td>117.000000</td>\n",
       "      <td>72.000000</td>\n",
       "      <td>23.000000</td>\n",
       "      <td>30.500000</td>\n",
       "      <td>32.000000</td>\n",
       "      <td>0.372500</td>\n",
       "      <td>29.000000</td>\n",
       "      <td>0.000000</td>\n",
       "    </tr>\n",
       "    <tr>\n",
       "      <th>75%</th>\n",
       "      <td>6.000000</td>\n",
       "      <td>140.250000</td>\n",
       "      <td>80.000000</td>\n",
       "      <td>32.000000</td>\n",
       "      <td>127.250000</td>\n",
       "      <td>36.600000</td>\n",
       "      <td>0.626250</td>\n",
       "      <td>41.000000</td>\n",
       "      <td>1.000000</td>\n",
       "    </tr>\n",
       "    <tr>\n",
       "      <th>max</th>\n",
       "      <td>17.000000</td>\n",
       "      <td>199.000000</td>\n",
       "      <td>122.000000</td>\n",
       "      <td>99.000000</td>\n",
       "      <td>846.000000</td>\n",
       "      <td>67.100000</td>\n",
       "      <td>2.420000</td>\n",
       "      <td>81.000000</td>\n",
       "      <td>1.000000</td>\n",
       "    </tr>\n",
       "  </tbody>\n",
       "</table>\n",
       "</div>"
      ],
      "text/plain": [
       "       Num_pregnant  Gluc_concent  Blood_press     Triceps     Insulin  \\\n",
       "count    768.000000    768.000000   768.000000  768.000000  768.000000   \n",
       "mean       3.845052    120.894531    69.105469   20.536458   79.799479   \n",
       "std        3.369578     31.972618    19.355807   15.952218  115.244002   \n",
       "min        0.000000      0.000000     0.000000    0.000000    0.000000   \n",
       "25%        1.000000     99.000000    62.000000    0.000000    0.000000   \n",
       "50%        3.000000    117.000000    72.000000   23.000000   30.500000   \n",
       "75%        6.000000    140.250000    80.000000   32.000000  127.250000   \n",
       "max       17.000000    199.000000   122.000000   99.000000  846.000000   \n",
       "\n",
       "              BMI    Pedigree         Age   Diagnosis  \n",
       "count  768.000000  768.000000  768.000000  768.000000  \n",
       "mean    31.992578    0.471876   33.240885    0.348958  \n",
       "std      7.884160    0.331329   11.760232    0.476951  \n",
       "min      0.000000    0.078000   21.000000    0.000000  \n",
       "25%     27.300000    0.243750   24.000000    0.000000  \n",
       "50%     32.000000    0.372500   29.000000    0.000000  \n",
       "75%     36.600000    0.626250   41.000000    1.000000  \n",
       "max     67.100000    2.420000   81.000000    1.000000  "
      ]
     },
     "execution_count": 426,
     "metadata": {},
     "output_type": "execute_result"
    }
   ],
   "source": [
    "diabetes.describe()"
   ]
  },
  {
   "cell_type": "markdown",
   "metadata": {},
   "source": [
    "### b) Vemos que hay algunas características del dataset que tienen un valor mínimo sin ningún sentido lógico. ¿Qué características o variables considera que habría que modificar para eliminar esos registros nulos que carecen de sentido? (0.5 puntos)"
   ]
  },
  {
   "cell_type": "markdown",
   "metadata": {},
   "source": [
    "**Respuesta:** Las características que contiene mayor número de valores mínimos sin sentido son `Triceps` (**29.56%**) e `Insulin` (**48.70%**). Se descartan *Num_pregnant* porque tienen sentido que muchas muestras contengan el valor mínimo (0.0), y *Diagnosis* porque es la variable de clasificación. \n",
    "\n",
    "Además, la cantidad de estos valores sin sentidos es grande respecto al resto de muestras de la características."
   ]
  },
  {
   "cell_type": "code",
   "execution_count": 427,
   "metadata": {},
   "outputs": [
    {
     "data": {
      "text/plain": [
       "Num_pregnant    14.45\n",
       "Gluc_concent     0.65\n",
       "Blood_press      4.56\n",
       "Triceps         29.56\n",
       "Insulin         48.70\n",
       "BMI              1.43\n",
       "Pedigree         0.00\n",
       "Age              0.00\n",
       "Diagnosis       65.10\n",
       "dtype: float64"
      ]
     },
     "execution_count": 427,
     "metadata": {},
     "output_type": "execute_result"
    }
   ],
   "source": [
    "round(diabetes[diabetes == 0.0].count() / len(diabetes) * 100, 2)"
   ]
  },
  {
   "cell_type": "markdown",
   "metadata": {},
   "source": [
    "### c) ¿Cuál es la relación $\\Gamma = \\frac{diabeticos}{\\neg diabeticos}$? ¿Está nuestro dataset balanceado? Si es así, justificar. De lo contrario, indicar qué clase está subrepresentada. (0.5 puntos)"
   ]
  },
  {
   "cell_type": "code",
   "execution_count": 428,
   "metadata": {},
   "outputs": [
    {
     "data": {
      "text/plain": [
       "34.9"
      ]
     },
     "execution_count": 428,
     "metadata": {},
     "output_type": "execute_result"
    }
   ],
   "source": [
    "round(diabetes['Diagnosis'][diabetes['Diagnosis'] == 1.0].count() / len(diabetes['Diagnosis']) * 100, 2)"
   ]
  },
  {
   "cell_type": "markdown",
   "metadata": {},
   "source": [
    "**Respuesta:** La clase _persona diagnosticada con diabetes tipo 2_, es decir, con el valor 1 en la columna `Diagnosis` es representada en **34.9%** de las muestras, por tanto esta _subrepresentado_ debido a que el porcentaje es bajo, por lo que el modelo podría quedar sesgado a predecir con menor frecuencia las personas que podrían tener la enfermedad.\n",
    "\n",
    "Debido al tipo de problema, donde **predecir los casos con diabetes es esencial**, es necesario _balancear el dataset_ para evitar el sesgo comentado."
   ]
  },
  {
   "cell_type": "markdown",
   "metadata": {},
   "source": [
    "### d) ¿Qué alternativas de actuación sobre el dataset propone para compensar la posible subrepresentación de una clase? (0.5 puntos)"
   ]
  },
  {
   "cell_type": "markdown",
   "metadata": {},
   "source": [
    "**Respuesta:** Existen varias técnicas para balancear el dataset entre las clases mayoritarias y minoritarias. Entre las principales tenemos:\n",
    "* **Ajustar los parámetros del algoritmo** para que tenga en cuenta el desbalance de las clases. Se debe tener en cuenta que no todos los algoritmos permiten ajustar parámetros de balanceo.\n",
    "* **Modificar el dataset** de entrenamiento eliminando muestras de la clase mayoritaria, o replicar entradas de la clase minoritaria. En este caso, los datos que se eliminen o replique podrían alterar el modelo haciendo menos preciso o sufrir de overfitting respectivamente.\n",
    "* **Inyectar muestras sintécticas** a la clase minoritaria con datos que sigan el mismo patrón de cada característica. Se debe considerar que los nuevos datos podrían alterar la distribución natural de la clase moniritaria.\n",
    "\n",
    "Cada alternativa tiene pros y contras como hemos visto, y se debe tener en cuenta a la hora de seleccionar alguna de ellas."
   ]
  },
  {
   "cell_type": "markdown",
   "metadata": {},
   "source": [
    "____\n",
    "## Limpieza y procesado de datos"
   ]
  },
  {
   "cell_type": "markdown",
   "metadata": {},
   "source": [
    "Los algoritmos de Machine Learning no suelen funcionar muy bien cuando faltan datos en los mismos, ya sea por la presencia de `missing values` o por la presencia de $0s$, por lo que debemos encontrar una solución para mitigar estos efectos.\n",
    "\n"
   ]
  },
  {
   "cell_type": "markdown",
   "metadata": {},
   "source": [
    "### Cuarta pregunta (1 puntos)\n",
    "\n",
    "### ¿Cuál es el porcentaje de datos nulos de insulina en el dataset (en la columna `insuline`)? ¿Ve conveniente eliminar todas aquellas filas donde nos falte alguna variable? Justifique su respuesta."
   ]
  },
  {
   "cell_type": "code",
   "execution_count": 429,
   "metadata": {},
   "outputs": [
    {
     "name": "stdout",
     "output_type": "stream",
     "text": [
      "Porcentaje de ceros/nulos en Insulin: 48.7%\n"
     ]
    }
   ],
   "source": [
    "perc_zero_insulin = diabetes['Insulin'][diabetes['Insulin'] == 0.0].count() / len(diabetes['Insulin']) * 100\n",
    "print(\"Porcentaje de ceros/nulos en Insulin: \" + str(round(perc_zero_insulin,2)) + \"%\")"
   ]
  },
  {
   "cell_type": "markdown",
   "metadata": {},
   "source": [
    "**Respuesta:** Casi la mitad de las muestras del dataset contiene cero en la característica `Insulin`, por lo que eliminar todas las entradas con esta particularidad reduciría a la mitad la cantidad de muestras, por tanto, _no es recomendable aplicar esta redución_, y en su defecto, es preferible **sustituir los valores con cero** para mantener las muestras."
   ]
  },
  {
   "cell_type": "markdown",
   "metadata": {},
   "source": [
    "Una opción reside en calcular el valor mediano para una columna específica y sustituir ese valor en todas partes (en la misma columna) donde tenemos cero o nulo. \n",
    "\n",
    "A continuación se incluye una pequeña ayuda en forma de pseudocódigo para sustituir los ceros por la mediana de una columna."
   ]
  },
  {
   "cell_type": "code",
   "execution_count": 457,
   "metadata": {},
   "outputs": [],
   "source": [
    "#median_var = diabetes['var'].median()\n",
    "# Sustituimos los valores nulos del índice de una determinada variable por la mediana\n",
    "#diabetes['var'] = diabetes['var'].replace(to_replace = 0, value = median_var)"
   ]
  },
  {
   "cell_type": "code",
   "execution_count": 456,
   "metadata": {},
   "outputs": [],
   "source": [
    "diabetes['Insulin'] = diabetes['Insulin'].replace(to_replace = 0, value = diabetes['Insulin'].median())"
   ]
  },
  {
   "cell_type": "markdown",
   "metadata": {},
   "source": [
    "### Quinta pregunta (1 puntos)\n",
    "\n",
    "### a) Realice la sustitución indicada arriba por la mediana en todas aquellas variables que considere que contienen valores sin sentido (en relación con la pregunta 3.b.) (5 puntos)"
   ]
  },
  {
   "cell_type": "markdown",
   "metadata": {},
   "source": [
    "**Respuesta:** Se sustituye los valores **ceros** de aquellas características que no tiene sentido tener este valor, para este ejemplo las caracteríticas son `Gluc_concent, Blood_press, Triceps, Insulin, y BMI`."
   ]
  },
  {
   "cell_type": "code",
   "execution_count": 431,
   "metadata": {},
   "outputs": [],
   "source": [
    "diabetes.iloc[:,1:6] = diabetes.iloc[:,1:6].replace(to_replace = 0, value = diabetes.iloc[:,1:6].median())"
   ]
  },
  {
   "cell_type": "markdown",
   "metadata": {},
   "source": [
    "### b) Vuelva a ejecutar el comando `diabetes.describe()`. ¿Cuál es la única variable que debe tener como valor mínimo $0$ tras haber hecho la sustitución de los valores nulos por su mediana? (0,5 puntos)"
   ]
  },
  {
   "cell_type": "code",
   "execution_count": 432,
   "metadata": {},
   "outputs": [
    {
     "data": {
      "text/html": [
       "<div>\n",
       "<style scoped>\n",
       "    .dataframe tbody tr th:only-of-type {\n",
       "        vertical-align: middle;\n",
       "    }\n",
       "\n",
       "    .dataframe tbody tr th {\n",
       "        vertical-align: top;\n",
       "    }\n",
       "\n",
       "    .dataframe thead th {\n",
       "        text-align: right;\n",
       "    }\n",
       "</style>\n",
       "<table border=\"1\" class=\"dataframe\">\n",
       "  <thead>\n",
       "    <tr style=\"text-align: right;\">\n",
       "      <th></th>\n",
       "      <th>Num_pregnant</th>\n",
       "      <th>Gluc_concent</th>\n",
       "      <th>Blood_press</th>\n",
       "      <th>Triceps</th>\n",
       "      <th>Insulin</th>\n",
       "      <th>BMI</th>\n",
       "      <th>Pedigree</th>\n",
       "      <th>Age</th>\n",
       "      <th>Diagnosis</th>\n",
       "    </tr>\n",
       "  </thead>\n",
       "  <tbody>\n",
       "    <tr>\n",
       "      <th>count</th>\n",
       "      <td>768.000000</td>\n",
       "      <td>768.000000</td>\n",
       "      <td>768.000000</td>\n",
       "      <td>768.000000</td>\n",
       "      <td>768.000000</td>\n",
       "      <td>768.000000</td>\n",
       "      <td>768.000000</td>\n",
       "      <td>768.000000</td>\n",
       "      <td>768.000000</td>\n",
       "    </tr>\n",
       "    <tr>\n",
       "      <th>mean</th>\n",
       "      <td>3.845052</td>\n",
       "      <td>121.656250</td>\n",
       "      <td>72.386719</td>\n",
       "      <td>27.334635</td>\n",
       "      <td>94.652344</td>\n",
       "      <td>32.450911</td>\n",
       "      <td>0.471876</td>\n",
       "      <td>33.240885</td>\n",
       "      <td>0.348958</td>\n",
       "    </tr>\n",
       "    <tr>\n",
       "      <th>std</th>\n",
       "      <td>3.369578</td>\n",
       "      <td>30.438286</td>\n",
       "      <td>12.096642</td>\n",
       "      <td>9.229014</td>\n",
       "      <td>105.547598</td>\n",
       "      <td>6.875366</td>\n",
       "      <td>0.331329</td>\n",
       "      <td>11.760232</td>\n",
       "      <td>0.476951</td>\n",
       "    </tr>\n",
       "    <tr>\n",
       "      <th>min</th>\n",
       "      <td>0.000000</td>\n",
       "      <td>44.000000</td>\n",
       "      <td>24.000000</td>\n",
       "      <td>7.000000</td>\n",
       "      <td>14.000000</td>\n",
       "      <td>18.200000</td>\n",
       "      <td>0.078000</td>\n",
       "      <td>21.000000</td>\n",
       "      <td>0.000000</td>\n",
       "    </tr>\n",
       "    <tr>\n",
       "      <th>25%</th>\n",
       "      <td>1.000000</td>\n",
       "      <td>99.750000</td>\n",
       "      <td>64.000000</td>\n",
       "      <td>23.000000</td>\n",
       "      <td>30.500000</td>\n",
       "      <td>27.500000</td>\n",
       "      <td>0.243750</td>\n",
       "      <td>24.000000</td>\n",
       "      <td>0.000000</td>\n",
       "    </tr>\n",
       "    <tr>\n",
       "      <th>50%</th>\n",
       "      <td>3.000000</td>\n",
       "      <td>117.000000</td>\n",
       "      <td>72.000000</td>\n",
       "      <td>23.000000</td>\n",
       "      <td>31.250000</td>\n",
       "      <td>32.000000</td>\n",
       "      <td>0.372500</td>\n",
       "      <td>29.000000</td>\n",
       "      <td>0.000000</td>\n",
       "    </tr>\n",
       "    <tr>\n",
       "      <th>75%</th>\n",
       "      <td>6.000000</td>\n",
       "      <td>140.250000</td>\n",
       "      <td>80.000000</td>\n",
       "      <td>32.000000</td>\n",
       "      <td>127.250000</td>\n",
       "      <td>36.600000</td>\n",
       "      <td>0.626250</td>\n",
       "      <td>41.000000</td>\n",
       "      <td>1.000000</td>\n",
       "    </tr>\n",
       "    <tr>\n",
       "      <th>max</th>\n",
       "      <td>17.000000</td>\n",
       "      <td>199.000000</td>\n",
       "      <td>122.000000</td>\n",
       "      <td>99.000000</td>\n",
       "      <td>846.000000</td>\n",
       "      <td>67.100000</td>\n",
       "      <td>2.420000</td>\n",
       "      <td>81.000000</td>\n",
       "      <td>1.000000</td>\n",
       "    </tr>\n",
       "  </tbody>\n",
       "</table>\n",
       "</div>"
      ],
      "text/plain": [
       "       Num_pregnant  Gluc_concent  Blood_press     Triceps     Insulin  \\\n",
       "count    768.000000    768.000000   768.000000  768.000000  768.000000   \n",
       "mean       3.845052    121.656250    72.386719   27.334635   94.652344   \n",
       "std        3.369578     30.438286    12.096642    9.229014  105.547598   \n",
       "min        0.000000     44.000000    24.000000    7.000000   14.000000   \n",
       "25%        1.000000     99.750000    64.000000   23.000000   30.500000   \n",
       "50%        3.000000    117.000000    72.000000   23.000000   31.250000   \n",
       "75%        6.000000    140.250000    80.000000   32.000000  127.250000   \n",
       "max       17.000000    199.000000   122.000000   99.000000  846.000000   \n",
       "\n",
       "              BMI    Pedigree         Age   Diagnosis  \n",
       "count  768.000000  768.000000  768.000000  768.000000  \n",
       "mean    32.450911    0.471876   33.240885    0.348958  \n",
       "std      6.875366    0.331329   11.760232    0.476951  \n",
       "min     18.200000    0.078000   21.000000    0.000000  \n",
       "25%     27.500000    0.243750   24.000000    0.000000  \n",
       "50%     32.000000    0.372500   29.000000    0.000000  \n",
       "75%     36.600000    0.626250   41.000000    1.000000  \n",
       "max     67.100000    2.420000   81.000000    1.000000  "
      ]
     },
     "execution_count": 432,
     "metadata": {},
     "output_type": "execute_result"
    }
   ],
   "source": [
    "diabetes.describe()"
   ]
  },
  {
   "cell_type": "markdown",
   "metadata": {},
   "source": [
    "Vuelva a ejecutar el siguiente comando para la visualización de datos:"
   ]
  },
  {
   "cell_type": "code",
   "execution_count": 433,
   "metadata": {},
   "outputs": [
    {
     "data": {
      "image/png": "[encoded data removed]",
      "text/plain": [
       "<Figure size 1440x1080 with 9 Axes>"
      ]
     },
     "metadata": {
      "needs_background": "light"
     },
     "output_type": "display_data"
    }
   ],
   "source": [
    "import matplotlib.pyplot as plt\n",
    "diabetes.hist(bins = 50, figsize=(20, 15))\n",
    "plt.show()"
   ]
  },
  {
   "cell_type": "markdown",
   "metadata": {},
   "source": [
    "### Normalizado del dataset"
   ]
  },
  {
   "cell_type": "markdown",
   "metadata": {},
   "source": [
    "Normalizar el dataset para su uso en ciertos algoritmos de Machine Learning se convierte en tarea imprescindible"
   ]
  },
  {
   "cell_type": "markdown",
   "metadata": {},
   "source": [
    "### Sexta pregunta (2 puntos) "
   ]
  },
  {
   "cell_type": "markdown",
   "metadata": {},
   "source": [
    "### a) Escale las caracteríticas del dataset que considere necesarias entre `0` y `1` para su posterior uso en una regresión logística binaria. (1 puntos)"
   ]
  },
  {
   "cell_type": "markdown",
   "metadata": {},
   "source": [
    "#### Pista: para hacerlo rápidamente, puede definir una lista `cols_to_norm` con las columnas a normalizar e incluir la función a usar en el escalado e iterar en bucle:"
   ]
  },
  {
   "cell_type": "code",
   "execution_count": 434,
   "metadata": {},
   "outputs": [],
   "source": [
    "cols_to_norm = ['Num_pregnant', 'Gluc_concent', 'Blood_press', 'Triceps', 'Insulin', 'BMI', 'Age', 'Pedigree']"
   ]
  },
  {
   "cell_type": "code",
   "execution_count": 435,
   "metadata": {},
   "outputs": [],
   "source": [
    "diabetes_norm = pd.DataFrame()\n",
    "for item in cols_to_norm:\n",
    "    diabetes_norm[item]= (diabetes[item] - np.min(diabetes[item]))/(np.max(diabetes[item]) - np.min(diabetes[item]))"
   ]
  },
  {
   "cell_type": "markdown",
   "metadata": {},
   "source": [
    "Ejecute de nuevo los siguientes comandos:"
   ]
  },
  {
   "cell_type": "code",
   "execution_count": 436,
   "metadata": {},
   "outputs": [
    {
     "data": {
      "text/html": [
       "<div>\n",
       "<style scoped>\n",
       "    .dataframe tbody tr th:only-of-type {\n",
       "        vertical-align: middle;\n",
       "    }\n",
       "\n",
       "    .dataframe tbody tr th {\n",
       "        vertical-align: top;\n",
       "    }\n",
       "\n",
       "    .dataframe thead th {\n",
       "        text-align: right;\n",
       "    }\n",
       "</style>\n",
       "<table border=\"1\" class=\"dataframe\">\n",
       "  <thead>\n",
       "    <tr style=\"text-align: right;\">\n",
       "      <th></th>\n",
       "      <th>Num_pregnant</th>\n",
       "      <th>Gluc_concent</th>\n",
       "      <th>Blood_press</th>\n",
       "      <th>Triceps</th>\n",
       "      <th>Insulin</th>\n",
       "      <th>BMI</th>\n",
       "      <th>Age</th>\n",
       "      <th>Pedigree</th>\n",
       "    </tr>\n",
       "  </thead>\n",
       "  <tbody>\n",
       "    <tr>\n",
       "      <th>0</th>\n",
       "      <td>0.352941</td>\n",
       "      <td>0.670968</td>\n",
       "      <td>0.489796</td>\n",
       "      <td>0.304348</td>\n",
       "      <td>0.019832</td>\n",
       "      <td>0.314928</td>\n",
       "      <td>0.483333</td>\n",
       "      <td>0.234415</td>\n",
       "    </tr>\n",
       "    <tr>\n",
       "      <th>1</th>\n",
       "      <td>0.058824</td>\n",
       "      <td>0.264516</td>\n",
       "      <td>0.428571</td>\n",
       "      <td>0.239130</td>\n",
       "      <td>0.019832</td>\n",
       "      <td>0.171779</td>\n",
       "      <td>0.166667</td>\n",
       "      <td>0.116567</td>\n",
       "    </tr>\n",
       "    <tr>\n",
       "      <th>2</th>\n",
       "      <td>0.470588</td>\n",
       "      <td>0.896774</td>\n",
       "      <td>0.408163</td>\n",
       "      <td>0.173913</td>\n",
       "      <td>0.019832</td>\n",
       "      <td>0.104294</td>\n",
       "      <td>0.183333</td>\n",
       "      <td>0.253629</td>\n",
       "    </tr>\n",
       "    <tr>\n",
       "      <th>3</th>\n",
       "      <td>0.058824</td>\n",
       "      <td>0.290323</td>\n",
       "      <td>0.428571</td>\n",
       "      <td>0.173913</td>\n",
       "      <td>0.096154</td>\n",
       "      <td>0.202454</td>\n",
       "      <td>0.000000</td>\n",
       "      <td>0.038002</td>\n",
       "    </tr>\n",
       "    <tr>\n",
       "      <th>4</th>\n",
       "      <td>0.000000</td>\n",
       "      <td>0.600000</td>\n",
       "      <td>0.163265</td>\n",
       "      <td>0.304348</td>\n",
       "      <td>0.185096</td>\n",
       "      <td>0.509202</td>\n",
       "      <td>0.200000</td>\n",
       "      <td>0.943638</td>\n",
       "    </tr>\n",
       "    <tr>\n",
       "      <th>5</th>\n",
       "      <td>0.294118</td>\n",
       "      <td>0.464516</td>\n",
       "      <td>0.510204</td>\n",
       "      <td>0.173913</td>\n",
       "      <td>0.019832</td>\n",
       "      <td>0.151329</td>\n",
       "      <td>0.150000</td>\n",
       "      <td>0.052519</td>\n",
       "    </tr>\n",
       "    <tr>\n",
       "      <th>6</th>\n",
       "      <td>0.176471</td>\n",
       "      <td>0.219355</td>\n",
       "      <td>0.265306</td>\n",
       "      <td>0.271739</td>\n",
       "      <td>0.088942</td>\n",
       "      <td>0.261759</td>\n",
       "      <td>0.083333</td>\n",
       "      <td>0.072588</td>\n",
       "    </tr>\n",
       "    <tr>\n",
       "      <th>7</th>\n",
       "      <td>0.588235</td>\n",
       "      <td>0.458065</td>\n",
       "      <td>0.489796</td>\n",
       "      <td>0.173913</td>\n",
       "      <td>0.019832</td>\n",
       "      <td>0.349693</td>\n",
       "      <td>0.133333</td>\n",
       "      <td>0.023911</td>\n",
       "    </tr>\n",
       "    <tr>\n",
       "      <th>8</th>\n",
       "      <td>0.117647</td>\n",
       "      <td>0.987097</td>\n",
       "      <td>0.469388</td>\n",
       "      <td>0.413043</td>\n",
       "      <td>0.635817</td>\n",
       "      <td>0.251534</td>\n",
       "      <td>0.533333</td>\n",
       "      <td>0.034159</td>\n",
       "    </tr>\n",
       "    <tr>\n",
       "      <th>9</th>\n",
       "      <td>0.470588</td>\n",
       "      <td>0.522581</td>\n",
       "      <td>0.734694</td>\n",
       "      <td>0.173913</td>\n",
       "      <td>0.019832</td>\n",
       "      <td>0.282209</td>\n",
       "      <td>0.550000</td>\n",
       "      <td>0.065756</td>\n",
       "    </tr>\n",
       "  </tbody>\n",
       "</table>\n",
       "</div>"
      ],
      "text/plain": [
       "   Num_pregnant  Gluc_concent  Blood_press   Triceps   Insulin       BMI  \\\n",
       "0      0.352941      0.670968     0.489796  0.304348  0.019832  0.314928   \n",
       "1      0.058824      0.264516     0.428571  0.239130  0.019832  0.171779   \n",
       "2      0.470588      0.896774     0.408163  0.173913  0.019832  0.104294   \n",
       "3      0.058824      0.290323     0.428571  0.173913  0.096154  0.202454   \n",
       "4      0.000000      0.600000     0.163265  0.304348  0.185096  0.509202   \n",
       "5      0.294118      0.464516     0.510204  0.173913  0.019832  0.151329   \n",
       "6      0.176471      0.219355     0.265306  0.271739  0.088942  0.261759   \n",
       "7      0.588235      0.458065     0.489796  0.173913  0.019832  0.349693   \n",
       "8      0.117647      0.987097     0.469388  0.413043  0.635817  0.251534   \n",
       "9      0.470588      0.522581     0.734694  0.173913  0.019832  0.282209   \n",
       "\n",
       "        Age  Pedigree  \n",
       "0  0.483333  0.234415  \n",
       "1  0.166667  0.116567  \n",
       "2  0.183333  0.253629  \n",
       "3  0.000000  0.038002  \n",
       "4  0.200000  0.943638  \n",
       "5  0.150000  0.052519  \n",
       "6  0.083333  0.072588  \n",
       "7  0.133333  0.023911  \n",
       "8  0.533333  0.034159  \n",
       "9  0.550000  0.065756  "
      ]
     },
     "execution_count": 436,
     "metadata": {},
     "output_type": "execute_result"
    }
   ],
   "source": [
    "diabetes_norm.head(n=10)"
   ]
  },
  {
   "cell_type": "code",
   "execution_count": 437,
   "metadata": {},
   "outputs": [
    {
     "data": {
      "text/html": [
       "<div>\n",
       "<style scoped>\n",
       "    .dataframe tbody tr th:only-of-type {\n",
       "        vertical-align: middle;\n",
       "    }\n",
       "\n",
       "    .dataframe tbody tr th {\n",
       "        vertical-align: top;\n",
       "    }\n",
       "\n",
       "    .dataframe thead th {\n",
       "        text-align: right;\n",
       "    }\n",
       "</style>\n",
       "<table border=\"1\" class=\"dataframe\">\n",
       "  <thead>\n",
       "    <tr style=\"text-align: right;\">\n",
       "      <th></th>\n",
       "      <th>Num_pregnant</th>\n",
       "      <th>Gluc_concent</th>\n",
       "      <th>Blood_press</th>\n",
       "      <th>Triceps</th>\n",
       "      <th>Insulin</th>\n",
       "      <th>BMI</th>\n",
       "      <th>Age</th>\n",
       "      <th>Pedigree</th>\n",
       "    </tr>\n",
       "  </thead>\n",
       "  <tbody>\n",
       "    <tr>\n",
       "      <th>count</th>\n",
       "      <td>768.000000</td>\n",
       "      <td>768.000000</td>\n",
       "      <td>768.000000</td>\n",
       "      <td>768.000000</td>\n",
       "      <td>768.000000</td>\n",
       "      <td>768.000000</td>\n",
       "      <td>768.000000</td>\n",
       "      <td>768.000000</td>\n",
       "    </tr>\n",
       "    <tr>\n",
       "      <th>mean</th>\n",
       "      <td>0.226180</td>\n",
       "      <td>0.501008</td>\n",
       "      <td>0.493742</td>\n",
       "      <td>0.221029</td>\n",
       "      <td>0.096938</td>\n",
       "      <td>0.291430</td>\n",
       "      <td>0.204015</td>\n",
       "      <td>0.168179</td>\n",
       "    </tr>\n",
       "    <tr>\n",
       "      <th>std</th>\n",
       "      <td>0.198210</td>\n",
       "      <td>0.196376</td>\n",
       "      <td>0.123435</td>\n",
       "      <td>0.100315</td>\n",
       "      <td>0.126860</td>\n",
       "      <td>0.140601</td>\n",
       "      <td>0.196004</td>\n",
       "      <td>0.141473</td>\n",
       "    </tr>\n",
       "    <tr>\n",
       "      <th>min</th>\n",
       "      <td>0.000000</td>\n",
       "      <td>0.000000</td>\n",
       "      <td>0.000000</td>\n",
       "      <td>0.000000</td>\n",
       "      <td>0.000000</td>\n",
       "      <td>0.000000</td>\n",
       "      <td>0.000000</td>\n",
       "      <td>0.000000</td>\n",
       "    </tr>\n",
       "    <tr>\n",
       "      <th>25%</th>\n",
       "      <td>0.058824</td>\n",
       "      <td>0.359677</td>\n",
       "      <td>0.408163</td>\n",
       "      <td>0.173913</td>\n",
       "      <td>0.019832</td>\n",
       "      <td>0.190184</td>\n",
       "      <td>0.050000</td>\n",
       "      <td>0.070773</td>\n",
       "    </tr>\n",
       "    <tr>\n",
       "      <th>50%</th>\n",
       "      <td>0.176471</td>\n",
       "      <td>0.470968</td>\n",
       "      <td>0.489796</td>\n",
       "      <td>0.173913</td>\n",
       "      <td>0.020733</td>\n",
       "      <td>0.282209</td>\n",
       "      <td>0.133333</td>\n",
       "      <td>0.125747</td>\n",
       "    </tr>\n",
       "    <tr>\n",
       "      <th>75%</th>\n",
       "      <td>0.352941</td>\n",
       "      <td>0.620968</td>\n",
       "      <td>0.571429</td>\n",
       "      <td>0.271739</td>\n",
       "      <td>0.136118</td>\n",
       "      <td>0.376278</td>\n",
       "      <td>0.333333</td>\n",
       "      <td>0.234095</td>\n",
       "    </tr>\n",
       "    <tr>\n",
       "      <th>max</th>\n",
       "      <td>1.000000</td>\n",
       "      <td>1.000000</td>\n",
       "      <td>1.000000</td>\n",
       "      <td>1.000000</td>\n",
       "      <td>1.000000</td>\n",
       "      <td>1.000000</td>\n",
       "      <td>1.000000</td>\n",
       "      <td>1.000000</td>\n",
       "    </tr>\n",
       "  </tbody>\n",
       "</table>\n",
       "</div>"
      ],
      "text/plain": [
       "       Num_pregnant  Gluc_concent  Blood_press     Triceps     Insulin  \\\n",
       "count    768.000000    768.000000   768.000000  768.000000  768.000000   \n",
       "mean       0.226180      0.501008     0.493742    0.221029    0.096938   \n",
       "std        0.198210      0.196376     0.123435    0.100315    0.126860   \n",
       "min        0.000000      0.000000     0.000000    0.000000    0.000000   \n",
       "25%        0.058824      0.359677     0.408163    0.173913    0.019832   \n",
       "50%        0.176471      0.470968     0.489796    0.173913    0.020733   \n",
       "75%        0.352941      0.620968     0.571429    0.271739    0.136118   \n",
       "max        1.000000      1.000000     1.000000    1.000000    1.000000   \n",
       "\n",
       "              BMI         Age    Pedigree  \n",
       "count  768.000000  768.000000  768.000000  \n",
       "mean     0.291430    0.204015    0.168179  \n",
       "std      0.140601    0.196004    0.141473  \n",
       "min      0.000000    0.000000    0.000000  \n",
       "25%      0.190184    0.050000    0.070773  \n",
       "50%      0.282209    0.133333    0.125747  \n",
       "75%      0.376278    0.333333    0.234095  \n",
       "max      1.000000    1.000000    1.000000  "
      ]
     },
     "execution_count": 437,
     "metadata": {},
     "output_type": "execute_result"
    }
   ],
   "source": [
    "diabetes_norm.describe()"
   ]
  },
  {
   "cell_type": "markdown",
   "metadata": {},
   "source": [
    "### b) ¿Qué destacaría en las dos tablas anteriores?¿Cómo han cambiado los intervalos en los que las características están distribuidas? (0,5 puntos)"
   ]
  },
  {
   "cell_type": "markdown",
   "metadata": {},
   "source": [
    "Todos los valores de las características normalizadas se ubican dentro del rango `[0,1]`"
   ]
  },
  {
   "cell_type": "markdown",
   "metadata": {},
   "source": [
    "### c) ¿Qué otro tipo de escalado aplicaría a las características de nuestro dataset? Impleméntela debajo y justifique su elección. (0,5 puntos)"
   ]
  },
  {
   "cell_type": "markdown",
   "metadata": {},
   "source": [
    "**Respuesta:** El otro método de escalado es la estandarización:"
   ]
  },
  {
   "cell_type": "code",
   "execution_count": 438,
   "metadata": {},
   "outputs": [
    {
     "data": {
      "text/html": [
       "<div>\n",
       "<style scoped>\n",
       "    .dataframe tbody tr th:only-of-type {\n",
       "        vertical-align: middle;\n",
       "    }\n",
       "\n",
       "    .dataframe tbody tr th {\n",
       "        vertical-align: top;\n",
       "    }\n",
       "\n",
       "    .dataframe thead th {\n",
       "        text-align: right;\n",
       "    }\n",
       "</style>\n",
       "<table border=\"1\" class=\"dataframe\">\n",
       "  <thead>\n",
       "    <tr style=\"text-align: right;\">\n",
       "      <th></th>\n",
       "      <th>Num_pregnant</th>\n",
       "      <th>Gluc_concent</th>\n",
       "      <th>Blood_press</th>\n",
       "      <th>Triceps</th>\n",
       "      <th>Insulin</th>\n",
       "      <th>BMI</th>\n",
       "      <th>Age</th>\n",
       "      <th>Pedigree</th>\n",
       "    </tr>\n",
       "  </thead>\n",
       "  <tbody>\n",
       "    <tr>\n",
       "      <th>count</th>\n",
       "      <td>7.680000e+02</td>\n",
       "      <td>7.680000e+02</td>\n",
       "      <td>7.680000e+02</td>\n",
       "      <td>7.680000e+02</td>\n",
       "      <td>7.680000e+02</td>\n",
       "      <td>7.680000e+02</td>\n",
       "      <td>7.680000e+02</td>\n",
       "      <td>7.680000e+02</td>\n",
       "    </tr>\n",
       "    <tr>\n",
       "      <th>mean</th>\n",
       "      <td>2.977942e-17</td>\n",
       "      <td>-5.637851e-18</td>\n",
       "      <td>2.493665e-18</td>\n",
       "      <td>-9.793960e-17</td>\n",
       "      <td>5.898060e-17</td>\n",
       "      <td>3.566158e-15</td>\n",
       "      <td>2.198762e-16</td>\n",
       "      <td>1.923447e-15</td>\n",
       "    </tr>\n",
       "    <tr>\n",
       "      <th>std</th>\n",
       "      <td>1.000000e+00</td>\n",
       "      <td>1.000000e+00</td>\n",
       "      <td>1.000000e+00</td>\n",
       "      <td>1.000000e+00</td>\n",
       "      <td>1.000000e+00</td>\n",
       "      <td>1.000000e+00</td>\n",
       "      <td>1.000000e+00</td>\n",
       "      <td>1.000000e+00</td>\n",
       "    </tr>\n",
       "    <tr>\n",
       "      <th>min</th>\n",
       "      <td>-1.141108e+00</td>\n",
       "      <td>-2.551269e+00</td>\n",
       "      <td>-4.000013e+00</td>\n",
       "      <td>-2.203338e+00</td>\n",
       "      <td>-7.641324e-01</td>\n",
       "      <td>-2.072749e+00</td>\n",
       "      <td>-1.040871e+00</td>\n",
       "      <td>-1.188778e+00</td>\n",
       "    </tr>\n",
       "    <tr>\n",
       "      <th>25%</th>\n",
       "      <td>-8.443348e-01</td>\n",
       "      <td>-7.196939e-01</td>\n",
       "      <td>-6.933097e-01</td>\n",
       "      <td>-4.696748e-01</td>\n",
       "      <td>-6.078049e-01</td>\n",
       "      <td>-7.200942e-01</td>\n",
       "      <td>-7.857741e-01</td>\n",
       "      <td>-6.885198e-01</td>\n",
       "    </tr>\n",
       "    <tr>\n",
       "      <th>50%</th>\n",
       "      <td>-2.507887e-01</td>\n",
       "      <td>-1.529735e-01</td>\n",
       "      <td>-3.196910e-02</td>\n",
       "      <td>-4.696748e-01</td>\n",
       "      <td>-6.006991e-01</td>\n",
       "      <td>-6.558363e-02</td>\n",
       "      <td>-3.606124e-01</td>\n",
       "      <td>-2.999328e-01</td>\n",
       "    </tr>\n",
       "    <tr>\n",
       "      <th>75%</th>\n",
       "      <td>6.395305e-01</td>\n",
       "      <td>6.108672e-01</td>\n",
       "      <td>6.293715e-01</td>\n",
       "      <td>5.055106e-01</td>\n",
       "      <td>3.088432e-01</td>\n",
       "      <td>6.034716e-01</td>\n",
       "      <td>6.597757e-01</td>\n",
       "      <td>4.659233e-01</td>\n",
       "    </tr>\n",
       "    <tr>\n",
       "      <th>max</th>\n",
       "      <td>3.904034e+00</td>\n",
       "      <td>2.541002e+00</td>\n",
       "      <td>4.101409e+00</td>\n",
       "      <td>7.765224e+00</td>\n",
       "      <td>7.118567e+00</td>\n",
       "      <td>5.039599e+00</td>\n",
       "      <td>4.061069e+00</td>\n",
       "      <td>5.879733e+00</td>\n",
       "    </tr>\n",
       "  </tbody>\n",
       "</table>\n",
       "</div>"
      ],
      "text/plain": [
       "       Num_pregnant  Gluc_concent   Blood_press       Triceps       Insulin  \\\n",
       "count  7.680000e+02  7.680000e+02  7.680000e+02  7.680000e+02  7.680000e+02   \n",
       "mean   2.977942e-17 -5.637851e-18  2.493665e-18 -9.793960e-17  5.898060e-17   \n",
       "std    1.000000e+00  1.000000e+00  1.000000e+00  1.000000e+00  1.000000e+00   \n",
       "min   -1.141108e+00 -2.551269e+00 -4.000013e+00 -2.203338e+00 -7.641324e-01   \n",
       "25%   -8.443348e-01 -7.196939e-01 -6.933097e-01 -4.696748e-01 -6.078049e-01   \n",
       "50%   -2.507887e-01 -1.529735e-01 -3.196910e-02 -4.696748e-01 -6.006991e-01   \n",
       "75%    6.395305e-01  6.108672e-01  6.293715e-01  5.055106e-01  3.088432e-01   \n",
       "max    3.904034e+00  2.541002e+00  4.101409e+00  7.765224e+00  7.118567e+00   \n",
       "\n",
       "                BMI           Age      Pedigree  \n",
       "count  7.680000e+02  7.680000e+02  7.680000e+02  \n",
       "mean   3.566158e-15  2.198762e-16  1.923447e-15  \n",
       "std    1.000000e+00  1.000000e+00  1.000000e+00  \n",
       "min   -2.072749e+00 -1.040871e+00 -1.188778e+00  \n",
       "25%   -7.200942e-01 -7.857741e-01 -6.885198e-01  \n",
       "50%   -6.558363e-02 -3.606124e-01 -2.999328e-01  \n",
       "75%    6.034716e-01  6.597757e-01  4.659233e-01  \n",
       "max    5.039599e+00  4.061069e+00  5.879733e+00  "
      ]
     },
     "execution_count": 438,
     "metadata": {},
     "output_type": "execute_result"
    }
   ],
   "source": [
    "diabetes_std = pd.DataFrame()\n",
    "for item in cols_to_norm:\n",
    "    diabetes_std[item] = (diabetes[item] - diabetes[item].mean())/diabetes[item].std()\n",
    "    \n",
    "diabetes_std.head(n=10)\n",
    "diabetes_std.describe()"
   ]
  },
  {
   "cell_type": "markdown",
   "metadata": {},
   "source": [
    "____\n",
    "### Matriz de correlación"
   ]
  },
  {
   "cell_type": "markdown",
   "metadata": {},
   "source": [
    "En `pandas`, es muy sencillo obtener la visualización de la matriz de correlación. **Ejecute el siguiente código:**"
   ]
  },
  {
   "cell_type": "code",
   "execution_count": 439,
   "metadata": {},
   "outputs": [
    {
     "data": {
      "text/html": [
       "<div>\n",
       "<style scoped>\n",
       "    .dataframe tbody tr th:only-of-type {\n",
       "        vertical-align: middle;\n",
       "    }\n",
       "\n",
       "    .dataframe tbody tr th {\n",
       "        vertical-align: top;\n",
       "    }\n",
       "\n",
       "    .dataframe thead th {\n",
       "        text-align: right;\n",
       "    }\n",
       "</style>\n",
       "<table border=\"1\" class=\"dataframe\">\n",
       "  <thead>\n",
       "    <tr style=\"text-align: right;\">\n",
       "      <th></th>\n",
       "      <th>Num_pregnant</th>\n",
       "      <th>Gluc_concent</th>\n",
       "      <th>Blood_press</th>\n",
       "      <th>Triceps</th>\n",
       "      <th>Insulin</th>\n",
       "      <th>BMI</th>\n",
       "      <th>Pedigree</th>\n",
       "      <th>Age</th>\n",
       "      <th>Diagnosis</th>\n",
       "    </tr>\n",
       "  </thead>\n",
       "  <tbody>\n",
       "    <tr>\n",
       "      <th>Num_pregnant</th>\n",
       "      <td>1.000000</td>\n",
       "      <td>0.128213</td>\n",
       "      <td>0.208615</td>\n",
       "      <td>0.032568</td>\n",
       "      <td>-0.055697</td>\n",
       "      <td>0.021546</td>\n",
       "      <td>-0.033523</td>\n",
       "      <td>0.544341</td>\n",
       "      <td>0.221898</td>\n",
       "    </tr>\n",
       "    <tr>\n",
       "      <th>Gluc_concent</th>\n",
       "      <td>0.128213</td>\n",
       "      <td>1.000000</td>\n",
       "      <td>0.218937</td>\n",
       "      <td>0.172143</td>\n",
       "      <td>0.357573</td>\n",
       "      <td>0.231400</td>\n",
       "      <td>0.137327</td>\n",
       "      <td>0.266909</td>\n",
       "      <td>0.492782</td>\n",
       "    </tr>\n",
       "    <tr>\n",
       "      <th>Blood_press</th>\n",
       "      <td>0.208615</td>\n",
       "      <td>0.218937</td>\n",
       "      <td>1.000000</td>\n",
       "      <td>0.147809</td>\n",
       "      <td>-0.028721</td>\n",
       "      <td>0.281132</td>\n",
       "      <td>-0.002378</td>\n",
       "      <td>0.324915</td>\n",
       "      <td>0.165723</td>\n",
       "    </tr>\n",
       "    <tr>\n",
       "      <th>Triceps</th>\n",
       "      <td>0.032568</td>\n",
       "      <td>0.172143</td>\n",
       "      <td>0.147809</td>\n",
       "      <td>1.000000</td>\n",
       "      <td>0.238188</td>\n",
       "      <td>0.546951</td>\n",
       "      <td>0.142977</td>\n",
       "      <td>0.054514</td>\n",
       "      <td>0.189065</td>\n",
       "    </tr>\n",
       "    <tr>\n",
       "      <th>Insulin</th>\n",
       "      <td>-0.055697</td>\n",
       "      <td>0.357573</td>\n",
       "      <td>-0.028721</td>\n",
       "      <td>0.238188</td>\n",
       "      <td>1.000000</td>\n",
       "      <td>0.189022</td>\n",
       "      <td>0.178029</td>\n",
       "      <td>-0.015413</td>\n",
       "      <td>0.148457</td>\n",
       "    </tr>\n",
       "    <tr>\n",
       "      <th>BMI</th>\n",
       "      <td>0.021546</td>\n",
       "      <td>0.231400</td>\n",
       "      <td>0.281132</td>\n",
       "      <td>0.546951</td>\n",
       "      <td>0.189022</td>\n",
       "      <td>1.000000</td>\n",
       "      <td>0.153506</td>\n",
       "      <td>0.025744</td>\n",
       "      <td>0.312249</td>\n",
       "    </tr>\n",
       "    <tr>\n",
       "      <th>Pedigree</th>\n",
       "      <td>-0.033523</td>\n",
       "      <td>0.137327</td>\n",
       "      <td>-0.002378</td>\n",
       "      <td>0.142977</td>\n",
       "      <td>0.178029</td>\n",
       "      <td>0.153506</td>\n",
       "      <td>1.000000</td>\n",
       "      <td>0.033561</td>\n",
       "      <td>0.173844</td>\n",
       "    </tr>\n",
       "    <tr>\n",
       "      <th>Age</th>\n",
       "      <td>0.544341</td>\n",
       "      <td>0.266909</td>\n",
       "      <td>0.324915</td>\n",
       "      <td>0.054514</td>\n",
       "      <td>-0.015413</td>\n",
       "      <td>0.025744</td>\n",
       "      <td>0.033561</td>\n",
       "      <td>1.000000</td>\n",
       "      <td>0.238356</td>\n",
       "    </tr>\n",
       "    <tr>\n",
       "      <th>Diagnosis</th>\n",
       "      <td>0.221898</td>\n",
       "      <td>0.492782</td>\n",
       "      <td>0.165723</td>\n",
       "      <td>0.189065</td>\n",
       "      <td>0.148457</td>\n",
       "      <td>0.312249</td>\n",
       "      <td>0.173844</td>\n",
       "      <td>0.238356</td>\n",
       "      <td>1.000000</td>\n",
       "    </tr>\n",
       "  </tbody>\n",
       "</table>\n",
       "</div>"
      ],
      "text/plain": [
       "              Num_pregnant  Gluc_concent  Blood_press   Triceps   Insulin  \\\n",
       "Num_pregnant      1.000000      0.128213     0.208615  0.032568 -0.055697   \n",
       "Gluc_concent      0.128213      1.000000     0.218937  0.172143  0.357573   \n",
       "Blood_press       0.208615      0.218937     1.000000  0.147809 -0.028721   \n",
       "Triceps           0.032568      0.172143     0.147809  1.000000  0.238188   \n",
       "Insulin          -0.055697      0.357573    -0.028721  0.238188  1.000000   \n",
       "BMI               0.021546      0.231400     0.281132  0.546951  0.189022   \n",
       "Pedigree         -0.033523      0.137327    -0.002378  0.142977  0.178029   \n",
       "Age               0.544341      0.266909     0.324915  0.054514 -0.015413   \n",
       "Diagnosis         0.221898      0.492782     0.165723  0.189065  0.148457   \n",
       "\n",
       "                   BMI  Pedigree       Age  Diagnosis  \n",
       "Num_pregnant  0.021546 -0.033523  0.544341   0.221898  \n",
       "Gluc_concent  0.231400  0.137327  0.266909   0.492782  \n",
       "Blood_press   0.281132 -0.002378  0.324915   0.165723  \n",
       "Triceps       0.546951  0.142977  0.054514   0.189065  \n",
       "Insulin       0.189022  0.178029 -0.015413   0.148457  \n",
       "BMI           1.000000  0.153506  0.025744   0.312249  \n",
       "Pedigree      0.153506  1.000000  0.033561   0.173844  \n",
       "Age           0.025744  0.033561  1.000000   0.238356  \n",
       "Diagnosis     0.312249  0.173844  0.238356   1.000000  "
      ]
     },
     "execution_count": 439,
     "metadata": {},
     "output_type": "execute_result"
    }
   ],
   "source": [
    "corr = diabetes.corr()\n",
    "corr"
   ]
  },
  {
   "cell_type": "markdown",
   "metadata": {},
   "source": [
    "Haciendo uso de `seaborn` podremos hacernos una idea rápida de qué variables están más correlacionadas con la clase. Ejecute el siguiente código."
   ]
  },
  {
   "cell_type": "code",
   "execution_count": 440,
   "metadata": {},
   "outputs": [],
   "source": [
    "%matplotlib inline\n",
    "import seaborn as sns"
   ]
  },
  {
   "cell_type": "code",
   "execution_count": 441,
   "metadata": {},
   "outputs": [
    {
     "data": {
      "image/png": "[encoded data removed]",
      "text/plain": [
       "<Figure size 720x720 with 2 Axes>"
      ]
     },
     "metadata": {
      "needs_background": "light"
     },
     "output_type": "display_data"
    }
   ],
   "source": [
    "plt.subplots(figsize=(10,10))\n",
    "sns.heatmap(corr, annot = True)\n",
    "plt.show()"
   ]
  },
  {
   "cell_type": "markdown",
   "metadata": {},
   "source": [
    "### Séptima pregunta (1 punto)"
   ]
  },
  {
   "cell_type": "markdown",
   "metadata": {},
   "source": [
    "### Indique, de mayor a menor correlación, las variables que guardan una mayor correlación con la clase. ¿Tiene sentido que las tres primeras variables con mayor correlación se identifiquen con una mayor probabilidad de sufrir diabetes de tipo 2? Justifique su respuesta."
   ]
  },
  {
   "cell_type": "markdown",
   "metadata": {},
   "source": [
    "**Respuesta:** Las variables con mayor correlación con la variable `Dignosis` son:"
   ]
  },
  {
   "cell_type": "code",
   "execution_count": 442,
   "metadata": {},
   "outputs": [
    {
     "data": {
      "text/plain": [
       "Diagnosis       1.000000\n",
       "Gluc_concent    0.492782\n",
       "BMI             0.312249\n",
       "Age             0.238356\n",
       "Num_pregnant    0.221898\n",
       "Triceps         0.189065\n",
       "Pedigree        0.173844\n",
       "Blood_press     0.165723\n",
       "Insulin         0.148457\n",
       "Name: Diagnosis, dtype: float64"
      ]
     },
     "execution_count": 442,
     "metadata": {},
     "output_type": "execute_result"
    }
   ],
   "source": [
    "corr['Diagnosis'].abs().sort_values(ascending=False)"
   ]
  },
  {
   "cell_type": "markdown",
   "metadata": {},
   "source": [
    "Las tres primeras característica con mayor magnitud de correlación con el diagnostico son `Gluc_concent, BMI, Age`, los cuales se encuentran las listas de factores de riesgo de la diabetes de tipo 2 según varias documentaciones como en este [enlace](https://www.mayoclinic.org/diseases-conditions/type-2-diabetes/symptoms-causes/syc-20351193)."
   ]
  },
  {
   "cell_type": "markdown",
   "metadata": {},
   "source": [
    "## Entrenando un modelo de Regresión Logística para el dataset"
   ]
  },
  {
   "cell_type": "markdown",
   "metadata": {},
   "source": [
    "Ahora podemos entrenar un modelo de clasificación. Usaremos un modelo simple de aprendizaje automático llamado Regresión Logística. \n",
    "Dado que el modelo está disponible en Scikit-sklearn, el proceso de capacitación es bastante sencillo y podemos hacerlo en pocas líneas de código. Primero, creamos una instancia llamada `diabetesCheck` y luego usamos la función de ajuste para entrenar el modelo."
   ]
  },
  {
   "cell_type": "markdown",
   "metadata": {},
   "source": [
    "### Partición del dataset en train test y test set"
   ]
  },
  {
   "cell_type": "markdown",
   "metadata": {},
   "source": [
    "Antes de comenzar el entrenamiento de nuestro modelo, necesitamos hacer una **partición de nuestro datos** entre aquellos que se van a usar para entrenar y aquellos que van a usarse para la validación de ese mismo entrenamiento. Esa partición suele ser aleatoria, y con `train_test_split` podremos hacer la partición fácilmente:"
   ]
  },
  {
   "cell_type": "markdown",
   "metadata": {},
   "source": [
    "<img src=\"images/train_val_test_set.png\" width=\"450\" height=\"400\" align=\"center\"/>"
   ]
  },
  {
   "cell_type": "markdown",
   "metadata": {},
   "source": [
    "Por favor, **ejecute las siguientes líneas de código**:"
   ]
  },
  {
   "cell_type": "code",
   "execution_count": 443,
   "metadata": {},
   "outputs": [],
   "source": [
    "# Se recupera el DataFrame que se escaló con el método de Normalización\n",
    "for item in cols_to_norm:\n",
    "    diabetes[item] = diabetes_norm[item]\n",
    "\n",
    "x_data = diabetes.drop('Diagnosis', axis=1)"
   ]
  },
  {
   "cell_type": "code",
   "execution_count": 444,
   "metadata": {},
   "outputs": [
    {
     "data": {
      "text/plain": [
       "(768, 8)"
      ]
     },
     "execution_count": 444,
     "metadata": {},
     "output_type": "execute_result"
    }
   ],
   "source": [
    "x_data.shape"
   ]
  },
  {
   "cell_type": "code",
   "execution_count": 445,
   "metadata": {},
   "outputs": [],
   "source": [
    "labels = diabetes['Diagnosis']"
   ]
  },
  {
   "cell_type": "code",
   "execution_count": 446,
   "metadata": {},
   "outputs": [
    {
     "data": {
      "text/plain": [
       "(768,)"
      ]
     },
     "execution_count": 446,
     "metadata": {},
     "output_type": "execute_result"
    }
   ],
   "source": [
    "labels.shape"
   ]
  },
  {
   "cell_type": "markdown",
   "metadata": {},
   "source": [
    "Con esto ya hemos aislado las características de las etiquetas desde el `pandas dataframe` en el que estábamos trabajando."
   ]
  },
  {
   "cell_type": "markdown",
   "metadata": {},
   "source": [
    "Importamos `train_test_split` y hacemos la partición de nuestros datos"
   ]
  },
  {
   "cell_type": "code",
   "execution_count": 447,
   "metadata": {},
   "outputs": [],
   "source": [
    "from sklearn.model_selection import train_test_split"
   ]
  },
  {
   "cell_type": "code",
   "execution_count": 448,
   "metadata": {},
   "outputs": [],
   "source": [
    "X_train, X_test, y_train, y_test = train_test_split(x_data, labels, test_size=0.33, random_state=37)"
   ]
  },
  {
   "cell_type": "markdown",
   "metadata": {},
   "source": [
    "Importamos el constructor `LogisticRegression` para **comenzar con la regresión logística** y lanzamos el entrenamiento con `diabetesCheck.fit()` sobre el dataset de entrenamiento."
   ]
  },
  {
   "cell_type": "code",
   "execution_count": 449,
   "metadata": {},
   "outputs": [],
   "source": [
    "from sklearn.linear_model import LogisticRegression"
   ]
  },
  {
   "cell_type": "code",
   "execution_count": 450,
   "metadata": {},
   "outputs": [],
   "source": [
    "diabetesCheck = LogisticRegression(solver='lbfgs')"
   ]
  },
  {
   "cell_type": "code",
   "execution_count": 451,
   "metadata": {},
   "outputs": [
    {
     "data": {
      "text/plain": [
       "LogisticRegression()"
      ]
     },
     "execution_count": 451,
     "metadata": {},
     "output_type": "execute_result"
    }
   ],
   "source": [
    "diabetesCheck.fit(X_train, y_train)"
   ]
  },
  {
   "cell_type": "markdown",
   "metadata": {},
   "source": [
    "Para obtener la precisión de nuestro modelo, podemos atacar directamente a nuestro `test dataset` con `diabetesCheck.score()`."
   ]
  },
  {
   "cell_type": "code",
   "execution_count": 452,
   "metadata": {},
   "outputs": [
    {
     "name": "stdout",
     "output_type": "stream",
     "text": [
      "accuracy with norm =  77.95275590551181 %\n"
     ]
    }
   ],
   "source": [
    "accuracy = diabetesCheck.score(X_test, y_test)\n",
    "print(\"accuracy with norm = \", accuracy * 100, \"%\")"
   ]
  },
  {
   "cell_type": "markdown",
   "metadata": {},
   "source": [
    "Esta es la precisión de nuestro modelo tras habér realizado una Regresión Logística. "
   ]
  },
  {
   "cell_type": "markdown",
   "metadata": {},
   "source": [
    "### Octava pregunta (1 punto)"
   ]
  },
  {
   "cell_type": "markdown",
   "metadata": {},
   "source": [
    "### Este ajuste se ha realizado con los datos escalados entre $0$ y $1$.\n",
    "### a) Repita este ajuste con los datos no escalados (es decir, con el dataset original) (0,4 puntos)"
   ]
  },
  {
   "cell_type": "markdown",
   "metadata": {},
   "source": [
    "¡Necesitará cargar el dataset desde el fichero original!"
   ]
  },
  {
   "cell_type": "code",
   "execution_count": 453,
   "metadata": {},
   "outputs": [
    {
     "name": "stdout",
     "output_type": "stream",
     "text": [
      "accuracy with original data =  79.52755905511812 %\n"
     ]
    }
   ],
   "source": [
    "diabetes = pd.read_csv('data/pima-indians-diabetes.csv', \n",
    "                       names=['Num_pregnant', 'Gluc_concent',\n",
    "                             'Blood_press', 'Triceps', 'Insulin', 'BMI',\n",
    "                             'Pedigree', 'Age', 'Diagnosis'])\n",
    "\n",
    "# Reemplaza los valores ceros por la mediana\n",
    "diabetes.iloc[:,1:6] = diabetes.iloc[:,1:6].replace(to_replace = 0, value = diabetes.iloc[:,1:6].median())\n",
    "\n",
    "x_data = diabetes.drop('Diagnosis', axis=1)\n",
    "labels = diabetes['Diagnosis']\n",
    "\n",
    "X_train, X_test, y_train, y_test = train_test_split(x_data, labels, test_size=0.33, random_state=37)\n",
    "\n",
    "diabetesCheck = LogisticRegression(solver='lbfgs', max_iter=181)\n",
    "diabetesCheck.fit(X_train, y_train)\n",
    "\n",
    "accuracy = diabetesCheck.score(X_test, y_test)\n",
    "print(\"accuracy with original data = \", accuracy * 100, \"%\")"
   ]
  },
  {
   "cell_type": "markdown",
   "metadata": {},
   "source": [
    "### b) Repita este ajuste con los datos escalados con $\\mu = 0$ y $\\sigma = 1$, tal y como hizo en la pregunta 2.c. (0,3 puntos)"
   ]
  },
  {
   "cell_type": "markdown",
   "metadata": {},
   "source": [
    "¡Necesitará cargar el dataset desde el fichero original!"
   ]
  },
  {
   "cell_type": "code",
   "execution_count": 454,
   "metadata": {},
   "outputs": [
    {
     "name": "stdout",
     "output_type": "stream",
     "text": [
      "accuracy with std =  79.52755905511812 %\n"
     ]
    }
   ],
   "source": [
    "diabetes = pd.read_csv('data/pima-indians-diabetes.csv', \n",
    "                       names=['Num_pregnant', 'Gluc_concent',\n",
    "                             'Blood_press', 'Triceps', 'Insulin', 'BMI',\n",
    "                             'Pedigree', 'Age', 'Diagnosis'])\n",
    "\n",
    "# Se recupera el DataFrame que se escaló con el método de Estandarización\n",
    "for item in cols_to_norm:\n",
    "    diabetes[item] = diabetes_std[item]\n",
    "    \n",
    "x_data = diabetes.drop('Diagnosis', axis=1)\n",
    "labels = diabetes['Diagnosis']\n",
    "\n",
    "X_train, X_test, y_train, y_test = train_test_split(x_data, labels, test_size=0.33, random_state=37)\n",
    "\n",
    "diabetesCheck = LogisticRegression(solver='lbfgs')\n",
    "diabetesCheck.fit(X_train, y_train)\n",
    "\n",
    "accuracy = diabetesCheck.score(X_test, y_test)\n",
    "print(\"accuracy with std = \", accuracy * 100, \"%\")"
   ]
  },
  {
   "cell_type": "markdown",
   "metadata": {},
   "source": [
    "### c) ¿Observa una mejora sustancial en alguno de los casos o un empeoramiento? Justifique su respuesta. ¿Por qué no prueba a implementar otro algoritmo (por ejemplo, `RandomForestClassifier()`) para ver si mejora su precisión? ¿Cómo interpreta los resultados obtenidos? (0,3 puntos)"
   ]
  },
  {
   "cell_type": "markdown",
   "metadata": {},
   "source": [
    "**Respuesta:** *La precisión varía muy poco* entre el entrenamiento con datos no escalados y datos escalados, alrededor de **77%** y **80%**, incluso lo modelos normalizado y estandarizado tienen peor precisión que los datos originales."
   ]
  },
  {
   "cell_type": "code",
   "execution_count": 455,
   "metadata": {},
   "outputs": [
    {
     "name": "stdout",
     "output_type": "stream",
     "text": [
      "accuracy with RandomForestClassifier =  0.7480314960629921 %\n"
     ]
    }
   ],
   "source": [
    "from sklearn.ensemble import RandomForestClassifier\n",
    "\n",
    "diabetes = pd.read_csv('data/pima-indians-diabetes.csv', \n",
    "                       names=['Num_pregnant', 'Gluc_concent',\n",
    "                             'Blood_press', 'Triceps', 'Insulin', 'BMI',\n",
    "                             'Pedigree', 'Age', 'Diagnosis'])\n",
    "\n",
    "# Reemplaza los valores ceros por la mediana\n",
    "diabetes.iloc[:,1:6] = diabetes.iloc[:,1:6].replace(to_replace = 0, value = diabetes.iloc[:,1:6].median())\n",
    "\n",
    "x_data = diabetes.drop('Diagnosis', axis=1)\n",
    "labels = diabetes['Diagnosis']\n",
    "\n",
    "X_train, X_test, y_train, y_test = train_test_split(x_data, labels, test_size=0.33, random_state=37)\n",
    "\n",
    "rnd_clf = RandomForestClassifier(random_state=37)\n",
    "rnd_clf.fit(X_train, y_train)\n",
    "\n",
    "print(\"accuracy with RandomForestClassifier = \", rnd_clf.score(X_test, y_test), \"%\")"
   ]
  },
  {
   "cell_type": "markdown",
   "metadata": {},
   "source": [
    "**Respuesta:** El modelo entrenado con el algoritmo RandomForestClassifier usando los datos originales **no mejoró** los resultados del modelo de Regresión Logistica, incluso se ha obtenido la peor precisión."
   ]
  },
  {
   "cell_type": "markdown",
   "metadata": {},
   "source": [
    "<img src=\"images/dalek_reminder.jpg\" width=\"550\" height=\"500\" align=\"center\"/>"
   ]
  },
  {
   "cell_type": "markdown",
   "metadata": {},
   "source": [
    "¡Por favor, no olvide guardar el Jupyter Notebook antes de mandar la práctica!"
   ]
  }
 ],
 "metadata": {
  "kernelspec": {
   "display_name": "Python 3",
   "language": "python",
   "name": "python3"
  },
  "language_info": {
   "codemirror_mode": {
    "name": "ipython",
    "version": 3
   },
   "file_extension": ".py",
   "mimetype": "text/x-python",
   "name": "python",
   "nbconvert_exporter": "python",
   "pygments_lexer": "ipython3",
   "version": "3.8.8"
  },
  "latex_envs": {
   "LaTeX_envs_menu_present": true,
   "autoclose": false,
   "autocomplete": true,
   "bibliofile": "biblio.bib",
   "cite_by": "apalike",
   "current_citInitial": 1,
   "eqLabelWithNumbers": true,
   "eqNumInitial": 1,
   "hotkeys": {
    "equation": "Ctrl-E",
    "itemize": "Ctrl-I"
   },
   "labels_anchors": false,
   "latex_user_defs": false,
   "report_style_numbering": false,
   "user_envs_cfg": false
  },
  "nbTranslate": {
   "displayLangs": [
    "*"
   ],
   "hotkey": "alt-t",
   "langInMainMenu": true,
   "sourceLang": "en",
   "targetLang": "fr",
   "useGoogleTranslate": true
  },
  "toc": {
   "base_numbering": 1,
   "nav_menu": {},
   "number_sections": true,
   "sideBar": true,
   "skip_h1_title": false,
   "title_cell": "Table of Contents",
   "title_sidebar": "Contents",
   "toc_cell": true,
   "toc_position": {},
   "toc_section_display": true,
   "toc_window_display": false
  }
 },
 "nbformat": 4,
 "nbformat_minor": 4
}
